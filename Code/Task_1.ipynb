{
 "cells": [
  {
   "cell_type": "code",
   "execution_count": 1,
   "metadata": {
    "id": "Qs19MAjIjJbm"
   },
   "outputs": [],
   "source": [
    "import numpy as np\n",
    "import matplotlib.pyplot as plt\n",
    "import pandas as pd\n"
   ]
  },
  {
   "cell_type": "code",
   "execution_count": 2,
   "metadata": {
    "colab": {
     "base_uri": "https://localhost:8080/"
    },
    "id": "UqQIRlBqjzXq",
    "outputId": "33d24867-2c53-4521-bcd1-38e0efc5eb3d"
   },
   "outputs": [
    {
     "data": {
      "text/html": [
       "<div>\n",
       "<style scoped>\n",
       "    .dataframe tbody tr th:only-of-type {\n",
       "        vertical-align: middle;\n",
       "    }\n",
       "\n",
       "    .dataframe tbody tr th {\n",
       "        vertical-align: top;\n",
       "    }\n",
       "\n",
       "    .dataframe thead th {\n",
       "        text-align: right;\n",
       "    }\n",
       "</style>\n",
       "<table border=\"1\" class=\"dataframe\">\n",
       "  <thead>\n",
       "    <tr style=\"text-align: right;\">\n",
       "      <th></th>\n",
       "      <th>hotel</th>\n",
       "      <th>is_canceled</th>\n",
       "      <th>lead_time</th>\n",
       "      <th>arrival_date_year</th>\n",
       "      <th>arrival_date_month</th>\n",
       "      <th>arrival_date_week_number</th>\n",
       "      <th>arrival_date_day_of_month</th>\n",
       "      <th>stays_in_weekend_nights</th>\n",
       "      <th>stays_in_week_nights</th>\n",
       "      <th>adults</th>\n",
       "      <th>...</th>\n",
       "      <th>deposit_type</th>\n",
       "      <th>agent</th>\n",
       "      <th>company</th>\n",
       "      <th>days_in_waiting_list</th>\n",
       "      <th>customer_type</th>\n",
       "      <th>adr</th>\n",
       "      <th>required_car_parking_spaces</th>\n",
       "      <th>total_of_special_requests</th>\n",
       "      <th>reservation_status</th>\n",
       "      <th>reservation_status_date</th>\n",
       "    </tr>\n",
       "  </thead>\n",
       "  <tbody>\n",
       "    <tr>\n",
       "      <th>0</th>\n",
       "      <td>Resort Hotel</td>\n",
       "      <td>0</td>\n",
       "      <td>342</td>\n",
       "      <td>2015</td>\n",
       "      <td>July</td>\n",
       "      <td>27</td>\n",
       "      <td>1</td>\n",
       "      <td>0</td>\n",
       "      <td>0</td>\n",
       "      <td>2</td>\n",
       "      <td>...</td>\n",
       "      <td>No Deposit</td>\n",
       "      <td>NaN</td>\n",
       "      <td>NaN</td>\n",
       "      <td>0</td>\n",
       "      <td>Transient</td>\n",
       "      <td>0.0</td>\n",
       "      <td>0</td>\n",
       "      <td>0</td>\n",
       "      <td>Check-Out</td>\n",
       "      <td>2015-07-01</td>\n",
       "    </tr>\n",
       "    <tr>\n",
       "      <th>1</th>\n",
       "      <td>Resort Hotel</td>\n",
       "      <td>0</td>\n",
       "      <td>737</td>\n",
       "      <td>2015</td>\n",
       "      <td>July</td>\n",
       "      <td>27</td>\n",
       "      <td>1</td>\n",
       "      <td>0</td>\n",
       "      <td>0</td>\n",
       "      <td>2</td>\n",
       "      <td>...</td>\n",
       "      <td>No Deposit</td>\n",
       "      <td>NaN</td>\n",
       "      <td>NaN</td>\n",
       "      <td>0</td>\n",
       "      <td>Transient</td>\n",
       "      <td>0.0</td>\n",
       "      <td>0</td>\n",
       "      <td>0</td>\n",
       "      <td>Check-Out</td>\n",
       "      <td>2015-07-01</td>\n",
       "    </tr>\n",
       "    <tr>\n",
       "      <th>2</th>\n",
       "      <td>Resort Hotel</td>\n",
       "      <td>0</td>\n",
       "      <td>7</td>\n",
       "      <td>2015</td>\n",
       "      <td>July</td>\n",
       "      <td>27</td>\n",
       "      <td>1</td>\n",
       "      <td>0</td>\n",
       "      <td>1</td>\n",
       "      <td>1</td>\n",
       "      <td>...</td>\n",
       "      <td>No Deposit</td>\n",
       "      <td>NaN</td>\n",
       "      <td>NaN</td>\n",
       "      <td>0</td>\n",
       "      <td>Transient</td>\n",
       "      <td>75.0</td>\n",
       "      <td>0</td>\n",
       "      <td>0</td>\n",
       "      <td>Check-Out</td>\n",
       "      <td>2015-07-02</td>\n",
       "    </tr>\n",
       "    <tr>\n",
       "      <th>3</th>\n",
       "      <td>Resort Hotel</td>\n",
       "      <td>0</td>\n",
       "      <td>13</td>\n",
       "      <td>2015</td>\n",
       "      <td>July</td>\n",
       "      <td>27</td>\n",
       "      <td>1</td>\n",
       "      <td>0</td>\n",
       "      <td>1</td>\n",
       "      <td>1</td>\n",
       "      <td>...</td>\n",
       "      <td>No Deposit</td>\n",
       "      <td>304.0</td>\n",
       "      <td>NaN</td>\n",
       "      <td>0</td>\n",
       "      <td>Transient</td>\n",
       "      <td>75.0</td>\n",
       "      <td>0</td>\n",
       "      <td>0</td>\n",
       "      <td>Check-Out</td>\n",
       "      <td>2015-07-02</td>\n",
       "    </tr>\n",
       "    <tr>\n",
       "      <th>4</th>\n",
       "      <td>Resort Hotel</td>\n",
       "      <td>0</td>\n",
       "      <td>14</td>\n",
       "      <td>2015</td>\n",
       "      <td>July</td>\n",
       "      <td>27</td>\n",
       "      <td>1</td>\n",
       "      <td>0</td>\n",
       "      <td>2</td>\n",
       "      <td>2</td>\n",
       "      <td>...</td>\n",
       "      <td>No Deposit</td>\n",
       "      <td>240.0</td>\n",
       "      <td>NaN</td>\n",
       "      <td>0</td>\n",
       "      <td>Transient</td>\n",
       "      <td>98.0</td>\n",
       "      <td>0</td>\n",
       "      <td>1</td>\n",
       "      <td>Check-Out</td>\n",
       "      <td>2015-07-03</td>\n",
       "    </tr>\n",
       "    <tr>\n",
       "      <th>5</th>\n",
       "      <td>Resort Hotel</td>\n",
       "      <td>0</td>\n",
       "      <td>14</td>\n",
       "      <td>2015</td>\n",
       "      <td>July</td>\n",
       "      <td>27</td>\n",
       "      <td>1</td>\n",
       "      <td>0</td>\n",
       "      <td>2</td>\n",
       "      <td>2</td>\n",
       "      <td>...</td>\n",
       "      <td>No Deposit</td>\n",
       "      <td>240.0</td>\n",
       "      <td>NaN</td>\n",
       "      <td>0</td>\n",
       "      <td>Transient</td>\n",
       "      <td>98.0</td>\n",
       "      <td>0</td>\n",
       "      <td>1</td>\n",
       "      <td>Check-Out</td>\n",
       "      <td>2015-07-03</td>\n",
       "    </tr>\n",
       "    <tr>\n",
       "      <th>6</th>\n",
       "      <td>Resort Hotel</td>\n",
       "      <td>0</td>\n",
       "      <td>0</td>\n",
       "      <td>2015</td>\n",
       "      <td>July</td>\n",
       "      <td>27</td>\n",
       "      <td>1</td>\n",
       "      <td>0</td>\n",
       "      <td>2</td>\n",
       "      <td>2</td>\n",
       "      <td>...</td>\n",
       "      <td>No Deposit</td>\n",
       "      <td>NaN</td>\n",
       "      <td>NaN</td>\n",
       "      <td>0</td>\n",
       "      <td>Transient</td>\n",
       "      <td>107.0</td>\n",
       "      <td>0</td>\n",
       "      <td>0</td>\n",
       "      <td>Check-Out</td>\n",
       "      <td>2015-07-03</td>\n",
       "    </tr>\n",
       "  </tbody>\n",
       "</table>\n",
       "<p>7 rows × 32 columns</p>\n",
       "</div>"
      ],
      "text/plain": [
       "          hotel  is_canceled  lead_time  arrival_date_year arrival_date_month  \\\n",
       "0  Resort Hotel            0        342               2015               July   \n",
       "1  Resort Hotel            0        737               2015               July   \n",
       "2  Resort Hotel            0          7               2015               July   \n",
       "3  Resort Hotel            0         13               2015               July   \n",
       "4  Resort Hotel            0         14               2015               July   \n",
       "5  Resort Hotel            0         14               2015               July   \n",
       "6  Resort Hotel            0          0               2015               July   \n",
       "\n",
       "   arrival_date_week_number  arrival_date_day_of_month  \\\n",
       "0                        27                          1   \n",
       "1                        27                          1   \n",
       "2                        27                          1   \n",
       "3                        27                          1   \n",
       "4                        27                          1   \n",
       "5                        27                          1   \n",
       "6                        27                          1   \n",
       "\n",
       "   stays_in_weekend_nights  stays_in_week_nights  adults  ...  deposit_type  \\\n",
       "0                        0                     0       2  ...    No Deposit   \n",
       "1                        0                     0       2  ...    No Deposit   \n",
       "2                        0                     1       1  ...    No Deposit   \n",
       "3                        0                     1       1  ...    No Deposit   \n",
       "4                        0                     2       2  ...    No Deposit   \n",
       "5                        0                     2       2  ...    No Deposit   \n",
       "6                        0                     2       2  ...    No Deposit   \n",
       "\n",
       "   agent company days_in_waiting_list customer_type    adr  \\\n",
       "0    NaN     NaN                    0     Transient    0.0   \n",
       "1    NaN     NaN                    0     Transient    0.0   \n",
       "2    NaN     NaN                    0     Transient   75.0   \n",
       "3  304.0     NaN                    0     Transient   75.0   \n",
       "4  240.0     NaN                    0     Transient   98.0   \n",
       "5  240.0     NaN                    0     Transient   98.0   \n",
       "6    NaN     NaN                    0     Transient  107.0   \n",
       "\n",
       "   required_car_parking_spaces  total_of_special_requests  reservation_status  \\\n",
       "0                            0                          0           Check-Out   \n",
       "1                            0                          0           Check-Out   \n",
       "2                            0                          0           Check-Out   \n",
       "3                            0                          0           Check-Out   \n",
       "4                            0                          1           Check-Out   \n",
       "5                            0                          1           Check-Out   \n",
       "6                            0                          0           Check-Out   \n",
       "\n",
       "  reservation_status_date  \n",
       "0              2015-07-01  \n",
       "1              2015-07-01  \n",
       "2              2015-07-02  \n",
       "3              2015-07-02  \n",
       "4              2015-07-03  \n",
       "5              2015-07-03  \n",
       "6              2015-07-03  \n",
       "\n",
       "[7 rows x 32 columns]"
      ]
     },
     "execution_count": 2,
     "metadata": {},
     "output_type": "execute_result"
    }
   ],
   "source": [
    "data = pd.read_excel(('../Dataset/Reservations.xlsx'))\n",
    "data.head(7)"
   ]
  },
  {
   "cell_type": "code",
   "execution_count": 3,
   "metadata": {
    "colab": {
     "base_uri": "https://localhost:8080/"
    },
    "id": "y2y8CGIvlAUF",
    "outputId": "0ba44761-a472-4e66-d92e-169eb69b7441"
   },
   "outputs": [
    {
     "name": "stdout",
     "output_type": "stream",
     "text": [
      "<class 'pandas.core.frame.DataFrame'>\n",
      "RangeIndex: 119390 entries, 0 to 119389\n",
      "Data columns (total 32 columns):\n",
      " #   Column                          Non-Null Count   Dtype  \n",
      "---  ------                          --------------   -----  \n",
      " 0   hotel                           119390 non-null  object \n",
      " 1   is_canceled                     119390 non-null  int64  \n",
      " 2   lead_time                       119390 non-null  int64  \n",
      " 3   arrival_date_year               119390 non-null  int64  \n",
      " 4   arrival_date_month              119390 non-null  object \n",
      " 5   arrival_date_week_number        119390 non-null  int64  \n",
      " 6   arrival_date_day_of_month       119390 non-null  int64  \n",
      " 7   stays_in_weekend_nights         119390 non-null  int64  \n",
      " 8   stays_in_week_nights            119390 non-null  int64  \n",
      " 9   adults                          119390 non-null  int64  \n",
      " 10  children                        119386 non-null  float64\n",
      " 11  babies                          119390 non-null  int64  \n",
      " 12  meal                            119390 non-null  object \n",
      " 13  country                         118902 non-null  object \n",
      " 14  market_segment                  119390 non-null  object \n",
      " 15  distribution_channel            119390 non-null  object \n",
      " 16  is_repeated_guest               119390 non-null  int64  \n",
      " 17  previous_cancellations          119390 non-null  int64  \n",
      " 18  previous_bookings_not_canceled  119390 non-null  int64  \n",
      " 19  reserved_room_type              119390 non-null  object \n",
      " 20  assigned_room_type              119390 non-null  object \n",
      " 21  booking_changes                 119390 non-null  int64  \n",
      " 22  deposit_type                    119390 non-null  object \n",
      " 23  agent                           103050 non-null  float64\n",
      " 24  company                         6797 non-null    float64\n",
      " 25  days_in_waiting_list            119390 non-null  int64  \n",
      " 26  customer_type                   119390 non-null  object \n",
      " 27  adr                             119390 non-null  float64\n",
      " 28  required_car_parking_spaces     119390 non-null  int64  \n",
      " 29  total_of_special_requests       119390 non-null  int64  \n",
      " 30  reservation_status              119390 non-null  object \n",
      " 31  reservation_status_date         119390 non-null  object \n",
      "dtypes: float64(4), int64(16), object(12)\n",
      "memory usage: 29.1+ MB\n"
     ]
    }
   ],
   "source": [
    "data.info()"
   ]
  },
  {
   "cell_type": "markdown",
   "metadata": {
    "id": "snMbk1eE8a44"
   },
   "source": [
    "**Question 1 : Remove Duplicate Values**"
   ]
  },
  {
   "cell_type": "code",
   "execution_count": 4,
   "metadata": {
    "id": "0uAGw37hKSCx"
   },
   "outputs": [],
   "source": [
    "df = data.drop_duplicates()"
   ]
  },
  {
   "cell_type": "code",
   "execution_count": 5,
   "metadata": {},
   "outputs": [
    {
     "data": {
      "text/plain": [
       "(87396, 32)"
      ]
     },
     "execution_count": 5,
     "metadata": {},
     "output_type": "execute_result"
    }
   ],
   "source": [
    "df.shape"
   ]
  },
  {
   "cell_type": "markdown",
   "metadata": {},
   "source": [
    "**Question2 : Imputation of missing values**"
   ]
  },
  {
   "cell_type": "markdown",
   "metadata": {
    "id": "8E0-NsFzo8lx"
   },
   "source": [
    "We Drop Company and Agent Columns as they are not accurate"
   ]
  },
  {
   "cell_type": "code",
   "execution_count": 6,
   "metadata": {
    "colab": {
     "base_uri": "https://localhost:8080/"
    },
    "id": "fof1SKKaoKrm",
    "outputId": "31dab4b9-1ec8-49c4-d423-4df187a814d1",
    "scrolled": true
   },
   "outputs": [
    {
     "name": "stderr",
     "output_type": "stream",
     "text": [
      "C:\\ProgramData\\Anaconda3\\lib\\site-packages\\pandas\\core\\frame.py:4906: SettingWithCopyWarning: \n",
      "A value is trying to be set on a copy of a slice from a DataFrame\n",
      "\n",
      "See the caveats in the documentation: https://pandas.pydata.org/pandas-docs/stable/user_guide/indexing.html#returning-a-view-versus-a-copy\n",
      "  return super().drop(\n"
     ]
    }
   ],
   "source": [
    "df.drop([\"company\", \"agent\"], axis = 1, inplace = True)"
   ]
  },
  {
   "cell_type": "code",
   "execution_count": 7,
   "metadata": {},
   "outputs": [
    {
     "data": {
      "text/plain": [
       "(87396, 30)"
      ]
     },
     "execution_count": 7,
     "metadata": {},
     "output_type": "execute_result"
    }
   ],
   "source": [
    "df.shape"
   ]
  },
  {
   "cell_type": "code",
   "execution_count": 8,
   "metadata": {
    "colab": {
     "base_uri": "https://localhost:8080/",
     "height": 265
    },
    "id": "a-RtC_qHrhDk",
    "outputId": "18ccd3cb-980a-4ca3-d226-ea30207a6cc5"
   },
   "outputs": [
    {
     "data": {
      "image/png": "[encoded data removed]",
      "text/plain": [
       "<Figure size 432x288 with 1 Axes>"
      ]
     },
     "metadata": {
      "needs_background": "light"
     },
     "output_type": "display_data"
    }
   ],
   "source": [
    "lead_time_plot = df[\"lead_time\"].plot.hist()"
   ]
  },
  {
   "cell_type": "code",
   "execution_count": 9,
   "metadata": {
    "colab": {
     "base_uri": "https://localhost:8080/"
    },
    "id": "ELfeWykZwmAJ",
    "outputId": "fa592f03-0b98-4919-c60e-16b1aed46211"
   },
   "outputs": [
    {
     "data": {
      "text/plain": [
       "49.0"
      ]
     },
     "execution_count": 9,
     "metadata": {},
     "output_type": "execute_result"
    }
   ],
   "source": [
    "df[\"lead_time\"].median()"
   ]
  },
  {
   "cell_type": "markdown",
   "metadata": {},
   "source": [
    "We fill the null values of Country columns with mode"
   ]
  },
  {
   "cell_type": "code",
   "execution_count": 10,
   "metadata": {
    "colab": {
     "base_uri": "https://localhost:8080/"
    },
    "id": "1BKwtJj4W93K",
    "outputId": "6a1c157f-c36a-413e-e5af-079e4a40e7af"
   },
   "outputs": [
    {
     "name": "stderr",
     "output_type": "stream",
     "text": [
      "C:\\ProgramData\\Anaconda3\\lib\\site-packages\\pandas\\core\\generic.py:6392: SettingWithCopyWarning: \n",
      "A value is trying to be set on a copy of a slice from a DataFrame\n",
      "\n",
      "See the caveats in the documentation: https://pandas.pydata.org/pandas-docs/stable/user_guide/indexing.html#returning-a-view-versus-a-copy\n",
      "  return self._update_inplace(result)\n"
     ]
    }
   ],
   "source": [
    "repl = df[\"country\"].mode()[0]\n",
    "df[\"country\"].fillna(repl, inplace = True)"
   ]
  },
  {
   "cell_type": "code",
   "execution_count": 11,
   "metadata": {
    "colab": {
     "base_uri": "https://localhost:8080/"
    },
    "id": "KMk7Tp6-Wc6L",
    "outputId": "e002693a-198d-4dab-a8a4-32a4ab66f5b9"
   },
   "outputs": [
    {
     "name": "stdout",
     "output_type": "stream",
     "text": [
      "0.13863969242035884\n",
      "0.0\n"
     ]
    }
   ],
   "source": [
    "print(df[\"children\"].mean())\n",
    "print(df[\"children\"].median())"
   ]
  },
  {
   "cell_type": "markdown",
   "metadata": {
    "id": "1SvbWSN3b-DH"
   },
   "source": [
    "Since the number of children cannot be a decimal, we replace the missing values with the median, i.e., 0 over here."
   ]
  },
  {
   "cell_type": "code",
   "execution_count": 12,
   "metadata": {
    "colab": {
     "base_uri": "https://localhost:8080/"
    },
    "id": "ZsZBTMFMcI60",
    "outputId": "f557a14d-6ea3-47c1-befc-732b93b31e12"
   },
   "outputs": [],
   "source": [
    "df[\"children\"].fillna(df[\"children\"].median(), inplace = True)"
   ]
  },
  {
   "cell_type": "code",
   "execution_count": 13,
   "metadata": {
    "colab": {
     "base_uri": "https://localhost:8080/"
    },
    "id": "POWqP66Le-at",
    "outputId": "f1d279ba-8a5d-4714-c343-4dc1879b0f2d"
   },
   "outputs": [
    {
     "data": {
      "text/plain": [
       "hotel                             0\n",
       "is_canceled                       0\n",
       "lead_time                         0\n",
       "arrival_date_year                 0\n",
       "arrival_date_month                0\n",
       "arrival_date_week_number          0\n",
       "arrival_date_day_of_month         0\n",
       "stays_in_weekend_nights           0\n",
       "stays_in_week_nights              0\n",
       "adults                            0\n",
       "children                          0\n",
       "babies                            0\n",
       "meal                              0\n",
       "country                           0\n",
       "market_segment                    0\n",
       "distribution_channel              0\n",
       "is_repeated_guest                 0\n",
       "previous_cancellations            0\n",
       "previous_bookings_not_canceled    0\n",
       "reserved_room_type                0\n",
       "assigned_room_type                0\n",
       "booking_changes                   0\n",
       "deposit_type                      0\n",
       "days_in_waiting_list              0\n",
       "customer_type                     0\n",
       "adr                               0\n",
       "required_car_parking_spaces       0\n",
       "total_of_special_requests         0\n",
       "reservation_status                0\n",
       "reservation_status_date           0\n",
       "dtype: int64"
      ]
     },
     "execution_count": 13,
     "metadata": {},
     "output_type": "execute_result"
    }
   ],
   "source": [
    "df.isna().sum()"
   ]
  },
  {
   "cell_type": "markdown",
   "metadata": {
    "id": "dNnpPFndceBy"
   },
   "source": [
    "No Null Values are now present in Dataset so the Data is Imputed\n"
   ]
  },
  {
   "cell_type": "markdown",
   "metadata": {
    "id": "j83CYX8TCDWw"
   },
   "source": [
    "**Question 3 : Remove outliers**"
   ]
  },
  {
   "cell_type": "code",
   "execution_count": 15,
   "metadata": {
    "colab": {
     "base_uri": "https://localhost:8080/"
    },
    "id": "na-__nZfWN6K",
    "outputId": "a4a5928e-cf5c-4801-ca8d-1ea4ae6feda7"
   },
   "outputs": [],
   "source": [
    "df_box = df.select_dtypes(include = 'number')\n",
    "df_box.drop(columns = [\"arrival_date_year\", \"arrival_date_day_of_month\"], inplace = True)"
   ]
  },
  {
   "cell_type": "code",
   "execution_count": 16,
   "metadata": {
    "colab": {
     "base_uri": "https://localhost:8080/"
    },
    "id": "iCLNeK45YUfv",
    "outputId": "2a9e79b3-c398-4cd2-b7a3-269aaa3d1d64"
   },
   "outputs": [
    {
     "name": "stdout",
     "output_type": "stream",
     "text": [
      "<class 'pandas.core.frame.DataFrame'>\n",
      "Int64Index: 87396 entries, 0 to 119389\n",
      "Data columns (total 16 columns):\n",
      " #   Column                          Non-Null Count  Dtype  \n",
      "---  ------                          --------------  -----  \n",
      " 0   is_canceled                     87396 non-null  int64  \n",
      " 1   lead_time                       87396 non-null  int64  \n",
      " 2   arrival_date_week_number        87396 non-null  int64  \n",
      " 3   stays_in_weekend_nights         87396 non-null  int64  \n",
      " 4   stays_in_week_nights            87396 non-null  int64  \n",
      " 5   adults                          87396 non-null  int64  \n",
      " 6   children                        87396 non-null  float64\n",
      " 7   babies                          87396 non-null  int64  \n",
      " 8   is_repeated_guest               87396 non-null  int64  \n",
      " 9   previous_cancellations          87396 non-null  int64  \n",
      " 10  previous_bookings_not_canceled  87396 non-null  int64  \n",
      " 11  booking_changes                 87396 non-null  int64  \n",
      " 12  days_in_waiting_list            87396 non-null  int64  \n",
      " 13  adr                             87396 non-null  float64\n",
      " 14  required_car_parking_spaces     87396 non-null  int64  \n",
      " 15  total_of_special_requests       87396 non-null  int64  \n",
      "dtypes: float64(2), int64(14)\n",
      "memory usage: 11.3 MB\n"
     ]
    }
   ],
   "source": [
    "df_box.info()"
   ]
  },
  {
   "cell_type": "code",
   "execution_count": 17,
   "metadata": {
    "colab": {
     "base_uri": "https://localhost:8080/",
     "height": 1000
    },
    "id": "31ieE-Pb2x3P",
    "outputId": "f12bbba1-66d0-40ae-a274-1a197a2b1720"
   },
   "outputs": [
    {
     "data": {
      "image/png": "[encoded data removed]",
      "text/plain": [
       "<Figure size 432x288 with 1 Axes>"
      ]
     },
     "metadata": {
      "needs_background": "light"
     },
     "output_type": "display_data"
    },
    {
     "data": {
      "image/png": "[encoded data removed]",
      "text/plain": [
       "<Figure size 432x288 with 1 Axes>"
      ]
     },
     "metadata": {
      "needs_background": "light"
     },
     "output_type": "display_data"
    },
    {
     "data": {
      "image/png": "[encoded data removed]",
      "text/plain": [
       "<Figure size 432x288 with 1 Axes>"
      ]
     },
     "metadata": {
      "needs_background": "light"
     },
     "output_type": "display_data"
    },
    {
     "data": {
      "image/png": "[encoded data removed]",
      "text/plain": [
       "<Figure size 432x288 with 1 Axes>"
      ]
     },
     "metadata": {
      "needs_background": "light"
     },
     "output_type": "display_data"
    },
    {
     "data": {
      "image/png": "[encoded data removed]",
      "text/plain": [
       "<Figure size 432x288 with 1 Axes>"
      ]
     },
     "metadata": {
      "needs_background": "light"
     },
     "output_type": "display_data"
    },
    {
     "data": {
      "image/png": "[encoded data removed]",
      "text/plain": [
       "<Figure size 432x288 with 1 Axes>"
      ]
     },
     "metadata": {
      "needs_background": "light"
     },
     "output_type": "display_data"
    },
    {
     "data": {
      "image/png": "[encoded data removed]",
      "text/plain": [
       "<Figure size 432x288 with 1 Axes>"
      ]
     },
     "metadata": {
      "needs_background": "light"
     },
     "output_type": "display_data"
    },
    {
     "data": {
      "image/png": "[encoded data removed]",
      "text/plain": [
       "<Figure size 432x288 with 1 Axes>"
      ]
     },
     "metadata": {
      "needs_background": "light"
     },
     "output_type": "display_data"
    },
    {
     "data": {
      "image/png": "[encoded data removed]",
      "text/plain": [
       "<Figure size 432x288 with 1 Axes>"
      ]
     },
     "metadata": {
      "needs_background": "light"
     },
     "output_type": "display_data"
    },
    {
     "data": {
      "image/png": "[encoded data removed]",
      "text/plain": [
       "<Figure size 432x288 with 1 Axes>"
      ]
     },
     "metadata": {
      "needs_background": "light"
     },
     "output_type": "display_data"
    },
    {
     "data": {
      "image/png": "[encoded data removed]",
      "text/plain": [
       "<Figure size 432x288 with 1 Axes>"
      ]
     },
     "metadata": {
      "needs_background": "light"
     },
     "output_type": "display_data"
    },
    {
     "data": {
      "image/png": "[encoded data removed]",
      "text/plain": [
       "<Figure size 432x288 with 1 Axes>"
      ]
     },
     "metadata": {
      "needs_background": "light"
     },
     "output_type": "display_data"
    },
    {
     "data": {
      "image/png": "[encoded data removed]",
      "text/plain": [
       "<Figure size 432x288 with 1 Axes>"
      ]
     },
     "metadata": {
      "needs_background": "light"
     },
     "output_type": "display_data"
    },
    {
     "data": {
      "image/png": "[encoded data removed]",
      "text/plain": [
       "<Figure size 432x288 with 1 Axes>"
      ]
     },
     "metadata": {
      "needs_background": "light"
     },
     "output_type": "display_data"
    },
    {
     "data": {
      "image/png": "[encoded data removed]",
      "text/plain": [
       "<Figure size 432x288 with 1 Axes>"
      ]
     },
     "metadata": {
      "needs_background": "light"
     },
     "output_type": "display_data"
    },
    {
     "data": {
      "image/png": "[encoded data removed]",
      "text/plain": [
       "<Figure size 432x288 with 1 Axes>"
      ]
     },
     "metadata": {
      "needs_background": "light"
     },
     "output_type": "display_data"
    }
   ],
   "source": [
    "for column in df_box:\n",
    "    plt.figure()\n",
    "    df_box.boxplot([column])"
   ]
  },
  {
   "cell_type": "code",
   "execution_count": 18,
   "metadata": {
    "colab": {
     "base_uri": "https://localhost:8080/"
    },
    "id": "Ml-Y_CNFYc39",
    "outputId": "de2cf479-b583-4196-dd17-e1a1a263bca3"
   },
   "outputs": [
    {
     "data": {
      "text/plain": [
       "(87396, 30)"
      ]
     },
     "execution_count": 18,
     "metadata": {},
     "output_type": "execute_result"
    }
   ],
   "source": [
    "from scipy import stats\n",
    "import numpy as np\n",
    "\n",
    "df.shape\n"
   ]
  },
  {
   "cell_type": "code",
   "execution_count": 20,
   "metadata": {
    "id": "GKnXdQZb3wGG"
   },
   "outputs": [],
   "source": [
    "df = df[(np.abs(stats.zscore(df['days_in_waiting_list'])) < 3)]\n",
    "df = df[(np.abs(stats.zscore(df['total_of_special_requests'])) < 3)]"
   ]
  },
  {
   "cell_type": "code",
   "execution_count": 21,
   "metadata": {
    "colab": {
     "base_uri": "https://localhost:8080/"
    },
    "id": "M-z0zw0ButMW",
    "outputId": "862cfa2b-4047-4f32-fa1f-e3cfc11b7455"
   },
   "outputs": [
    {
     "data": {
      "text/plain": [
       "(86379, 30)"
      ]
     },
     "execution_count": 21,
     "metadata": {},
     "output_type": "execute_result"
    }
   ],
   "source": [
    "df.shape"
   ]
  },
  {
   "cell_type": "markdown",
   "metadata": {
    "id": "gLtjtlG2GQTs"
   },
   "source": [
    "**Question 4 : Correlation analysis**"
   ]
  },
  {
   "cell_type": "code",
   "execution_count": 22,
   "metadata": {
    "colab": {
     "base_uri": "https://localhost:8080/",
     "height": 275
    },
    "id": "Xh9cbDw1E72E",
    "outputId": "fdbd4843-b9b2-4aed-9383-e8ebabc9d4bf"
   },
   "outputs": [
    {
     "data": {
      "text/plain": [
       "<matplotlib.colorbar.Colorbar at 0x194332f3970>"
      ]
     },
     "execution_count": 22,
     "metadata": {},
     "output_type": "execute_result"
    },
    {
     "data": {
      "image/png": "[encoded data removed]",
      "text/plain": [
       "<Figure size 288x288 with 2 Axes>"
      ]
     },
     "metadata": {
      "needs_background": "light"
     },
     "output_type": "display_data"
    }
   ],
   "source": [
    "plot = plt.matshow(df.corr())\n",
    "plt.colorbar(plot)"
   ]
  },
  {
   "cell_type": "markdown",
   "metadata": {
    "id": "v9Wet6VhG-4o"
   },
   "source": [
    "We Observe that rows are not highly correlated"
   ]
  },
  {
   "cell_type": "markdown",
   "metadata": {
    "id": "unATPNOiHPTG"
   },
   "source": [
    "**Question 5 : Data Transformation**"
   ]
  },
  {
   "cell_type": "code",
   "execution_count": 23,
   "metadata": {
    "id": "_2CRYJnBGi22"
   },
   "outputs": [],
   "source": [
    "df['total_children'] = df['children'].astype(int) +df['babies'].astype(int)\n",
    "df.drop(['children', 'babies'], axis=1, inplace=True)"
   ]
  },
  {
   "cell_type": "code",
   "execution_count": 25,
   "metadata": {
    "id": "OjootPctHawB"
   },
   "outputs": [],
   "source": [
    "df['arrival_date'] = df['arrival_date_day_of_month'].astype(str)+ \" \" + df['arrival_date_month'] + \" \" + df['arrival_date_year'].astype(str)\n",
    "df[\"arrival_date\"] = pd.to_datetime(df[\"arrival_date\"])\n",
    "df.drop(['arrival_date_day_of_month', 'arrival_date_month' , 'arrival_date_year' , 'arrival_date_week_number'], axis=1, inplace=True)"
   ]
  },
  {
   "cell_type": "code",
   "execution_count": 28,
   "metadata": {
    "colab": {
     "base_uri": "https://localhost:8080/",
     "height": 357
    },
    "id": "JciSbBA-JQHJ",
    "outputId": "ee3c7d46-fa3f-4075-bf98-6e25b0217926"
   },
   "outputs": [
    {
     "data": {
      "text/html": [
       "<div>\n",
       "<style scoped>\n",
       "    .dataframe tbody tr th:only-of-type {\n",
       "        vertical-align: middle;\n",
       "    }\n",
       "\n",
       "    .dataframe tbody tr th {\n",
       "        vertical-align: top;\n",
       "    }\n",
       "\n",
       "    .dataframe thead th {\n",
       "        text-align: right;\n",
       "    }\n",
       "</style>\n",
       "<table border=\"1\" class=\"dataframe\">\n",
       "  <thead>\n",
       "    <tr style=\"text-align: right;\">\n",
       "      <th></th>\n",
       "      <th>hotel</th>\n",
       "      <th>is_canceled</th>\n",
       "      <th>lead_time</th>\n",
       "      <th>stays_in_weekend_nights</th>\n",
       "      <th>stays_in_week_nights</th>\n",
       "      <th>adults</th>\n",
       "      <th>meal</th>\n",
       "      <th>country</th>\n",
       "      <th>market_segment</th>\n",
       "      <th>distribution_channel</th>\n",
       "      <th>...</th>\n",
       "      <th>deposit_type</th>\n",
       "      <th>days_in_waiting_list</th>\n",
       "      <th>customer_type</th>\n",
       "      <th>adr</th>\n",
       "      <th>required_car_parking_spaces</th>\n",
       "      <th>total_of_special_requests</th>\n",
       "      <th>reservation_status</th>\n",
       "      <th>reservation_status_date</th>\n",
       "      <th>total_children</th>\n",
       "      <th>arrival_date</th>\n",
       "    </tr>\n",
       "  </thead>\n",
       "  <tbody>\n",
       "    <tr>\n",
       "      <th>0</th>\n",
       "      <td>Resort Hotel</td>\n",
       "      <td>0</td>\n",
       "      <td>342</td>\n",
       "      <td>0</td>\n",
       "      <td>0</td>\n",
       "      <td>2</td>\n",
       "      <td>BB</td>\n",
       "      <td>PRT</td>\n",
       "      <td>Direct</td>\n",
       "      <td>Direct</td>\n",
       "      <td>...</td>\n",
       "      <td>No Deposit</td>\n",
       "      <td>0</td>\n",
       "      <td>Transient</td>\n",
       "      <td>0.0</td>\n",
       "      <td>0</td>\n",
       "      <td>0</td>\n",
       "      <td>Check-Out</td>\n",
       "      <td>2015-07-01</td>\n",
       "      <td>0</td>\n",
       "      <td>2015-07-01</td>\n",
       "    </tr>\n",
       "    <tr>\n",
       "      <th>1</th>\n",
       "      <td>Resort Hotel</td>\n",
       "      <td>0</td>\n",
       "      <td>737</td>\n",
       "      <td>0</td>\n",
       "      <td>0</td>\n",
       "      <td>2</td>\n",
       "      <td>BB</td>\n",
       "      <td>PRT</td>\n",
       "      <td>Direct</td>\n",
       "      <td>Direct</td>\n",
       "      <td>...</td>\n",
       "      <td>No Deposit</td>\n",
       "      <td>0</td>\n",
       "      <td>Transient</td>\n",
       "      <td>0.0</td>\n",
       "      <td>0</td>\n",
       "      <td>0</td>\n",
       "      <td>Check-Out</td>\n",
       "      <td>2015-07-01</td>\n",
       "      <td>0</td>\n",
       "      <td>2015-07-01</td>\n",
       "    </tr>\n",
       "    <tr>\n",
       "      <th>2</th>\n",
       "      <td>Resort Hotel</td>\n",
       "      <td>0</td>\n",
       "      <td>7</td>\n",
       "      <td>0</td>\n",
       "      <td>1</td>\n",
       "      <td>1</td>\n",
       "      <td>BB</td>\n",
       "      <td>GBR</td>\n",
       "      <td>Direct</td>\n",
       "      <td>Direct</td>\n",
       "      <td>...</td>\n",
       "      <td>No Deposit</td>\n",
       "      <td>0</td>\n",
       "      <td>Transient</td>\n",
       "      <td>75.0</td>\n",
       "      <td>0</td>\n",
       "      <td>0</td>\n",
       "      <td>Check-Out</td>\n",
       "      <td>2015-07-02</td>\n",
       "      <td>0</td>\n",
       "      <td>2015-07-01</td>\n",
       "    </tr>\n",
       "    <tr>\n",
       "      <th>3</th>\n",
       "      <td>Resort Hotel</td>\n",
       "      <td>0</td>\n",
       "      <td>13</td>\n",
       "      <td>0</td>\n",
       "      <td>1</td>\n",
       "      <td>1</td>\n",
       "      <td>BB</td>\n",
       "      <td>GBR</td>\n",
       "      <td>Corporate</td>\n",
       "      <td>Corporate</td>\n",
       "      <td>...</td>\n",
       "      <td>No Deposit</td>\n",
       "      <td>0</td>\n",
       "      <td>Transient</td>\n",
       "      <td>75.0</td>\n",
       "      <td>0</td>\n",
       "      <td>0</td>\n",
       "      <td>Check-Out</td>\n",
       "      <td>2015-07-02</td>\n",
       "      <td>0</td>\n",
       "      <td>2015-07-01</td>\n",
       "    </tr>\n",
       "    <tr>\n",
       "      <th>4</th>\n",
       "      <td>Resort Hotel</td>\n",
       "      <td>0</td>\n",
       "      <td>14</td>\n",
       "      <td>0</td>\n",
       "      <td>2</td>\n",
       "      <td>2</td>\n",
       "      <td>BB</td>\n",
       "      <td>GBR</td>\n",
       "      <td>Online TA</td>\n",
       "      <td>TA/TO</td>\n",
       "      <td>...</td>\n",
       "      <td>No Deposit</td>\n",
       "      <td>0</td>\n",
       "      <td>Transient</td>\n",
       "      <td>98.0</td>\n",
       "      <td>0</td>\n",
       "      <td>1</td>\n",
       "      <td>Check-Out</td>\n",
       "      <td>2015-07-03</td>\n",
       "      <td>0</td>\n",
       "      <td>2015-07-01</td>\n",
       "    </tr>\n",
       "  </tbody>\n",
       "</table>\n",
       "<p>5 rows × 26 columns</p>\n",
       "</div>"
      ],
      "text/plain": [
       "          hotel  is_canceled  lead_time  stays_in_weekend_nights  \\\n",
       "0  Resort Hotel            0        342                        0   \n",
       "1  Resort Hotel            0        737                        0   \n",
       "2  Resort Hotel            0          7                        0   \n",
       "3  Resort Hotel            0         13                        0   \n",
       "4  Resort Hotel            0         14                        0   \n",
       "\n",
       "   stays_in_week_nights  adults meal country market_segment  \\\n",
       "0                     0       2   BB     PRT         Direct   \n",
       "1                     0       2   BB     PRT         Direct   \n",
       "2                     1       1   BB     GBR         Direct   \n",
       "3                     1       1   BB     GBR      Corporate   \n",
       "4                     2       2   BB     GBR      Online TA   \n",
       "\n",
       "  distribution_channel  ...  deposit_type  days_in_waiting_list  \\\n",
       "0               Direct  ...    No Deposit                     0   \n",
       "1               Direct  ...    No Deposit                     0   \n",
       "2               Direct  ...    No Deposit                     0   \n",
       "3            Corporate  ...    No Deposit                     0   \n",
       "4                TA/TO  ...    No Deposit                     0   \n",
       "\n",
       "   customer_type   adr required_car_parking_spaces  total_of_special_requests  \\\n",
       "0      Transient   0.0                           0                          0   \n",
       "1      Transient   0.0                           0                          0   \n",
       "2      Transient  75.0                           0                          0   \n",
       "3      Transient  75.0                           0                          0   \n",
       "4      Transient  98.0                           0                          1   \n",
       "\n",
       "  reservation_status  reservation_status_date total_children  arrival_date  \n",
       "0          Check-Out               2015-07-01              0    2015-07-01  \n",
       "1          Check-Out               2015-07-01              0    2015-07-01  \n",
       "2          Check-Out               2015-07-02              0    2015-07-01  \n",
       "3          Check-Out               2015-07-02              0    2015-07-01  \n",
       "4          Check-Out               2015-07-03              0    2015-07-01  \n",
       "\n",
       "[5 rows x 26 columns]"
      ]
     },
     "execution_count": 28,
     "metadata": {},
     "output_type": "execute_result"
    }
   ],
   "source": [
    "df.head()"
   ]
  },
  {
   "cell_type": "code",
   "execution_count": 29,
   "metadata": {
    "colab": {
     "base_uri": "https://localhost:8080/"
    },
    "id": "YOnnyvwhJtlf",
    "outputId": "afa22205-8fdc-4a2c-dfcb-7cde0b1feb92"
   },
   "outputs": [
    {
     "data": {
      "text/plain": [
       "array(['Resort Hotel', 'City Hotel'], dtype=object)"
      ]
     },
     "execution_count": 29,
     "metadata": {},
     "output_type": "execute_result"
    }
   ],
   "source": [
    "df[\"hotel\"].unique()"
   ]
  },
  {
   "cell_type": "code",
   "execution_count": 30,
   "metadata": {
    "id": "avxJlrzvJ0FU"
   },
   "outputs": [],
   "source": [
    "df = pd.get_dummies(df, columns = [\"hotel\"])"
   ]
  },
  {
   "cell_type": "code",
   "execution_count": 31,
   "metadata": {
    "colab": {
     "base_uri": "https://localhost:8080/",
     "height": 505
    },
    "id": "D07QRKyDKlbM",
    "outputId": "57457e9d-dbd1-4a9a-f3c6-7b54e116295d"
   },
   "outputs": [
    {
     "data": {
      "text/html": [
       "<div>\n",
       "<style scoped>\n",
       "    .dataframe tbody tr th:only-of-type {\n",
       "        vertical-align: middle;\n",
       "    }\n",
       "\n",
       "    .dataframe tbody tr th {\n",
       "        vertical-align: top;\n",
       "    }\n",
       "\n",
       "    .dataframe thead th {\n",
       "        text-align: right;\n",
       "    }\n",
       "</style>\n",
       "<table border=\"1\" class=\"dataframe\">\n",
       "  <thead>\n",
       "    <tr style=\"text-align: right;\">\n",
       "      <th></th>\n",
       "      <th>is_canceled</th>\n",
       "      <th>lead_time</th>\n",
       "      <th>stays_in_weekend_nights</th>\n",
       "      <th>stays_in_week_nights</th>\n",
       "      <th>adults</th>\n",
       "      <th>meal</th>\n",
       "      <th>country</th>\n",
       "      <th>market_segment</th>\n",
       "      <th>distribution_channel</th>\n",
       "      <th>is_repeated_guest</th>\n",
       "      <th>...</th>\n",
       "      <th>customer_type</th>\n",
       "      <th>adr</th>\n",
       "      <th>required_car_parking_spaces</th>\n",
       "      <th>total_of_special_requests</th>\n",
       "      <th>reservation_status</th>\n",
       "      <th>reservation_status_date</th>\n",
       "      <th>total_children</th>\n",
       "      <th>arrival_date</th>\n",
       "      <th>hotel_City Hotel</th>\n",
       "      <th>hotel_Resort Hotel</th>\n",
       "    </tr>\n",
       "  </thead>\n",
       "  <tbody>\n",
       "    <tr>\n",
       "      <th>0</th>\n",
       "      <td>0</td>\n",
       "      <td>342</td>\n",
       "      <td>0</td>\n",
       "      <td>0</td>\n",
       "      <td>2</td>\n",
       "      <td>BB</td>\n",
       "      <td>PRT</td>\n",
       "      <td>Direct</td>\n",
       "      <td>Direct</td>\n",
       "      <td>0</td>\n",
       "      <td>...</td>\n",
       "      <td>Transient</td>\n",
       "      <td>0.00</td>\n",
       "      <td>0</td>\n",
       "      <td>0</td>\n",
       "      <td>Check-Out</td>\n",
       "      <td>2015-07-01</td>\n",
       "      <td>0</td>\n",
       "      <td>2015-07-01</td>\n",
       "      <td>0</td>\n",
       "      <td>1</td>\n",
       "    </tr>\n",
       "    <tr>\n",
       "      <th>1</th>\n",
       "      <td>0</td>\n",
       "      <td>737</td>\n",
       "      <td>0</td>\n",
       "      <td>0</td>\n",
       "      <td>2</td>\n",
       "      <td>BB</td>\n",
       "      <td>PRT</td>\n",
       "      <td>Direct</td>\n",
       "      <td>Direct</td>\n",
       "      <td>0</td>\n",
       "      <td>...</td>\n",
       "      <td>Transient</td>\n",
       "      <td>0.00</td>\n",
       "      <td>0</td>\n",
       "      <td>0</td>\n",
       "      <td>Check-Out</td>\n",
       "      <td>2015-07-01</td>\n",
       "      <td>0</td>\n",
       "      <td>2015-07-01</td>\n",
       "      <td>0</td>\n",
       "      <td>1</td>\n",
       "    </tr>\n",
       "    <tr>\n",
       "      <th>2</th>\n",
       "      <td>0</td>\n",
       "      <td>7</td>\n",
       "      <td>0</td>\n",
       "      <td>1</td>\n",
       "      <td>1</td>\n",
       "      <td>BB</td>\n",
       "      <td>GBR</td>\n",
       "      <td>Direct</td>\n",
       "      <td>Direct</td>\n",
       "      <td>0</td>\n",
       "      <td>...</td>\n",
       "      <td>Transient</td>\n",
       "      <td>75.00</td>\n",
       "      <td>0</td>\n",
       "      <td>0</td>\n",
       "      <td>Check-Out</td>\n",
       "      <td>2015-07-02</td>\n",
       "      <td>0</td>\n",
       "      <td>2015-07-01</td>\n",
       "      <td>0</td>\n",
       "      <td>1</td>\n",
       "    </tr>\n",
       "    <tr>\n",
       "      <th>3</th>\n",
       "      <td>0</td>\n",
       "      <td>13</td>\n",
       "      <td>0</td>\n",
       "      <td>1</td>\n",
       "      <td>1</td>\n",
       "      <td>BB</td>\n",
       "      <td>GBR</td>\n",
       "      <td>Corporate</td>\n",
       "      <td>Corporate</td>\n",
       "      <td>0</td>\n",
       "      <td>...</td>\n",
       "      <td>Transient</td>\n",
       "      <td>75.00</td>\n",
       "      <td>0</td>\n",
       "      <td>0</td>\n",
       "      <td>Check-Out</td>\n",
       "      <td>2015-07-02</td>\n",
       "      <td>0</td>\n",
       "      <td>2015-07-01</td>\n",
       "      <td>0</td>\n",
       "      <td>1</td>\n",
       "    </tr>\n",
       "    <tr>\n",
       "      <th>4</th>\n",
       "      <td>0</td>\n",
       "      <td>14</td>\n",
       "      <td>0</td>\n",
       "      <td>2</td>\n",
       "      <td>2</td>\n",
       "      <td>BB</td>\n",
       "      <td>GBR</td>\n",
       "      <td>Online TA</td>\n",
       "      <td>TA/TO</td>\n",
       "      <td>0</td>\n",
       "      <td>...</td>\n",
       "      <td>Transient</td>\n",
       "      <td>98.00</td>\n",
       "      <td>0</td>\n",
       "      <td>1</td>\n",
       "      <td>Check-Out</td>\n",
       "      <td>2015-07-03</td>\n",
       "      <td>0</td>\n",
       "      <td>2015-07-01</td>\n",
       "      <td>0</td>\n",
       "      <td>1</td>\n",
       "    </tr>\n",
       "    <tr>\n",
       "      <th>...</th>\n",
       "      <td>...</td>\n",
       "      <td>...</td>\n",
       "      <td>...</td>\n",
       "      <td>...</td>\n",
       "      <td>...</td>\n",
       "      <td>...</td>\n",
       "      <td>...</td>\n",
       "      <td>...</td>\n",
       "      <td>...</td>\n",
       "      <td>...</td>\n",
       "      <td>...</td>\n",
       "      <td>...</td>\n",
       "      <td>...</td>\n",
       "      <td>...</td>\n",
       "      <td>...</td>\n",
       "      <td>...</td>\n",
       "      <td>...</td>\n",
       "      <td>...</td>\n",
       "      <td>...</td>\n",
       "      <td>...</td>\n",
       "      <td>...</td>\n",
       "    </tr>\n",
       "    <tr>\n",
       "      <th>119384</th>\n",
       "      <td>0</td>\n",
       "      <td>21</td>\n",
       "      <td>2</td>\n",
       "      <td>5</td>\n",
       "      <td>2</td>\n",
       "      <td>BB</td>\n",
       "      <td>BEL</td>\n",
       "      <td>Offline TA/TO</td>\n",
       "      <td>TA/TO</td>\n",
       "      <td>0</td>\n",
       "      <td>...</td>\n",
       "      <td>Transient</td>\n",
       "      <td>96.14</td>\n",
       "      <td>0</td>\n",
       "      <td>2</td>\n",
       "      <td>Check-Out</td>\n",
       "      <td>2017-09-06</td>\n",
       "      <td>0</td>\n",
       "      <td>2017-08-30</td>\n",
       "      <td>1</td>\n",
       "      <td>0</td>\n",
       "    </tr>\n",
       "    <tr>\n",
       "      <th>119385</th>\n",
       "      <td>0</td>\n",
       "      <td>23</td>\n",
       "      <td>2</td>\n",
       "      <td>5</td>\n",
       "      <td>2</td>\n",
       "      <td>BB</td>\n",
       "      <td>BEL</td>\n",
       "      <td>Offline TA/TO</td>\n",
       "      <td>TA/TO</td>\n",
       "      <td>0</td>\n",
       "      <td>...</td>\n",
       "      <td>Transient</td>\n",
       "      <td>96.14</td>\n",
       "      <td>0</td>\n",
       "      <td>0</td>\n",
       "      <td>Check-Out</td>\n",
       "      <td>2017-09-06</td>\n",
       "      <td>0</td>\n",
       "      <td>2017-08-30</td>\n",
       "      <td>1</td>\n",
       "      <td>0</td>\n",
       "    </tr>\n",
       "    <tr>\n",
       "      <th>119386</th>\n",
       "      <td>0</td>\n",
       "      <td>102</td>\n",
       "      <td>2</td>\n",
       "      <td>5</td>\n",
       "      <td>3</td>\n",
       "      <td>BB</td>\n",
       "      <td>FRA</td>\n",
       "      <td>Online TA</td>\n",
       "      <td>TA/TO</td>\n",
       "      <td>0</td>\n",
       "      <td>...</td>\n",
       "      <td>Transient</td>\n",
       "      <td>225.43</td>\n",
       "      <td>0</td>\n",
       "      <td>2</td>\n",
       "      <td>Check-Out</td>\n",
       "      <td>2017-09-07</td>\n",
       "      <td>0</td>\n",
       "      <td>2017-08-31</td>\n",
       "      <td>1</td>\n",
       "      <td>0</td>\n",
       "    </tr>\n",
       "    <tr>\n",
       "      <th>119388</th>\n",
       "      <td>0</td>\n",
       "      <td>109</td>\n",
       "      <td>2</td>\n",
       "      <td>5</td>\n",
       "      <td>2</td>\n",
       "      <td>BB</td>\n",
       "      <td>GBR</td>\n",
       "      <td>Online TA</td>\n",
       "      <td>TA/TO</td>\n",
       "      <td>0</td>\n",
       "      <td>...</td>\n",
       "      <td>Transient</td>\n",
       "      <td>104.40</td>\n",
       "      <td>0</td>\n",
       "      <td>0</td>\n",
       "      <td>Check-Out</td>\n",
       "      <td>2017-09-07</td>\n",
       "      <td>0</td>\n",
       "      <td>2017-08-31</td>\n",
       "      <td>1</td>\n",
       "      <td>0</td>\n",
       "    </tr>\n",
       "    <tr>\n",
       "      <th>119389</th>\n",
       "      <td>0</td>\n",
       "      <td>205</td>\n",
       "      <td>2</td>\n",
       "      <td>7</td>\n",
       "      <td>2</td>\n",
       "      <td>HB</td>\n",
       "      <td>DEU</td>\n",
       "      <td>Online TA</td>\n",
       "      <td>TA/TO</td>\n",
       "      <td>0</td>\n",
       "      <td>...</td>\n",
       "      <td>Transient</td>\n",
       "      <td>151.20</td>\n",
       "      <td>0</td>\n",
       "      <td>2</td>\n",
       "      <td>Check-Out</td>\n",
       "      <td>2017-09-07</td>\n",
       "      <td>0</td>\n",
       "      <td>2017-08-29</td>\n",
       "      <td>1</td>\n",
       "      <td>0</td>\n",
       "    </tr>\n",
       "  </tbody>\n",
       "</table>\n",
       "<p>86379 rows × 27 columns</p>\n",
       "</div>"
      ],
      "text/plain": [
       "        is_canceled  lead_time  stays_in_weekend_nights  stays_in_week_nights  \\\n",
       "0                 0        342                        0                     0   \n",
       "1                 0        737                        0                     0   \n",
       "2                 0          7                        0                     1   \n",
       "3                 0         13                        0                     1   \n",
       "4                 0         14                        0                     2   \n",
       "...             ...        ...                      ...                   ...   \n",
       "119384            0         21                        2                     5   \n",
       "119385            0         23                        2                     5   \n",
       "119386            0        102                        2                     5   \n",
       "119388            0        109                        2                     5   \n",
       "119389            0        205                        2                     7   \n",
       "\n",
       "        adults meal country market_segment distribution_channel  \\\n",
       "0            2   BB     PRT         Direct               Direct   \n",
       "1            2   BB     PRT         Direct               Direct   \n",
       "2            1   BB     GBR         Direct               Direct   \n",
       "3            1   BB     GBR      Corporate            Corporate   \n",
       "4            2   BB     GBR      Online TA                TA/TO   \n",
       "...        ...  ...     ...            ...                  ...   \n",
       "119384       2   BB     BEL  Offline TA/TO                TA/TO   \n",
       "119385       2   BB     BEL  Offline TA/TO                TA/TO   \n",
       "119386       3   BB     FRA      Online TA                TA/TO   \n",
       "119388       2   BB     GBR      Online TA                TA/TO   \n",
       "119389       2   HB     DEU      Online TA                TA/TO   \n",
       "\n",
       "        is_repeated_guest  ...  customer_type     adr  \\\n",
       "0                       0  ...      Transient    0.00   \n",
       "1                       0  ...      Transient    0.00   \n",
       "2                       0  ...      Transient   75.00   \n",
       "3                       0  ...      Transient   75.00   \n",
       "4                       0  ...      Transient   98.00   \n",
       "...                   ...  ...            ...     ...   \n",
       "119384                  0  ...      Transient   96.14   \n",
       "119385                  0  ...      Transient   96.14   \n",
       "119386                  0  ...      Transient  225.43   \n",
       "119388                  0  ...      Transient  104.40   \n",
       "119389                  0  ...      Transient  151.20   \n",
       "\n",
       "       required_car_parking_spaces total_of_special_requests  \\\n",
       "0                                0                         0   \n",
       "1                                0                         0   \n",
       "2                                0                         0   \n",
       "3                                0                         0   \n",
       "4                                0                         1   \n",
       "...                            ...                       ...   \n",
       "119384                           0                         2   \n",
       "119385                           0                         0   \n",
       "119386                           0                         2   \n",
       "119388                           0                         0   \n",
       "119389                           0                         2   \n",
       "\n",
       "        reservation_status reservation_status_date  total_children  \\\n",
       "0                Check-Out              2015-07-01               0   \n",
       "1                Check-Out              2015-07-01               0   \n",
       "2                Check-Out              2015-07-02               0   \n",
       "3                Check-Out              2015-07-02               0   \n",
       "4                Check-Out              2015-07-03               0   \n",
       "...                    ...                     ...             ...   \n",
       "119384           Check-Out              2017-09-06               0   \n",
       "119385           Check-Out              2017-09-06               0   \n",
       "119386           Check-Out              2017-09-07               0   \n",
       "119388           Check-Out              2017-09-07               0   \n",
       "119389           Check-Out              2017-09-07               0   \n",
       "\n",
       "       arrival_date  hotel_City Hotel  hotel_Resort Hotel  \n",
       "0        2015-07-01                 0                   1  \n",
       "1        2015-07-01                 0                   1  \n",
       "2        2015-07-01                 0                   1  \n",
       "3        2015-07-01                 0                   1  \n",
       "4        2015-07-01                 0                   1  \n",
       "...             ...               ...                 ...  \n",
       "119384   2017-08-30                 1                   0  \n",
       "119385   2017-08-30                 1                   0  \n",
       "119386   2017-08-31                 1                   0  \n",
       "119388   2017-08-31                 1                   0  \n",
       "119389   2017-08-29                 1                   0  \n",
       "\n",
       "[86379 rows x 27 columns]"
      ]
     },
     "execution_count": 31,
     "metadata": {},
     "output_type": "execute_result"
    }
   ],
   "source": [
    "df"
   ]
  },
  {
   "cell_type": "code",
   "execution_count": 32,
   "metadata": {
    "colab": {
     "base_uri": "https://localhost:8080/"
    },
    "id": "aHuIrh1oKrcp",
    "outputId": "d1aae668-01b0-4a9c-c32f-39eb7523111d"
   },
   "outputs": [
    {
     "data": {
      "text/plain": [
       "array(['BB', 'FB', 'HB', 'SC', 'Undefined'], dtype=object)"
      ]
     },
     "execution_count": 32,
     "metadata": {},
     "output_type": "execute_result"
    }
   ],
   "source": [
    "df[\"meal\"].unique()"
   ]
  },
  {
   "cell_type": "markdown",
   "metadata": {
    "id": "xobAtV3WLWYc"
   },
   "source": [
    "Here we will drop the one hot column for the undefined meal, since that would be redundant"
   ]
  },
  {
   "cell_type": "code",
   "execution_count": 33,
   "metadata": {
    "id": "aOd2bTXqLD7v"
   },
   "outputs": [],
   "source": [
    "df = pd.get_dummies(df, prefix = None, columns = [\"meal\"])"
   ]
  },
  {
   "cell_type": "code",
   "execution_count": 34,
   "metadata": {
    "id": "1gcGbrvoLnvP"
   },
   "outputs": [],
   "source": [
    "df.drop([\"meal_Undefined\"], axis = 1, inplace = True)"
   ]
  },
  {
   "cell_type": "code",
   "execution_count": 35,
   "metadata": {
    "colab": {
     "base_uri": "https://localhost:8080/"
    },
    "id": "gd8JJxEqL6FJ",
    "outputId": "786aa947-8d9b-46b8-c3bd-1d12dd12ad53"
   },
   "outputs": [
    {
     "name": "stdout",
     "output_type": "stream",
     "text": [
      "['Direct' 'Corporate' 'Online TA' 'Offline TA/TO' 'Complementary' 'Groups'\n",
      " 'Undefined' 'Aviation']\n",
      "['Direct' 'Corporate' 'TA/TO' 'Undefined' 'GDS']\n"
     ]
    }
   ],
   "source": [
    "print(df[\"market_segment\"].unique())\n",
    "print(df[\"distribution_channel\"].unique())"
   ]
  },
  {
   "cell_type": "code",
   "execution_count": 36,
   "metadata": {
    "id": "7jAWI1qcMpeM"
   },
   "outputs": [],
   "source": [
    "df = pd.get_dummies(df, prefix = None, columns = [\"market_segment\", \"distribution_channel\"])"
   ]
  },
  {
   "cell_type": "code",
   "execution_count": 37,
   "metadata": {
    "id": "WRUsojS2N_f6"
   },
   "outputs": [],
   "source": [
    "df.drop([\"distribution_channel_Undefined\", \"market_segment_Undefined\"], axis = 1, inplace = True)"
   ]
  },
  {
   "cell_type": "code",
   "execution_count": 38,
   "metadata": {
    "colab": {
     "base_uri": "https://localhost:8080/"
    },
    "id": "2b78G4FiOUmy",
    "outputId": "3fd442a0-4946-4114-e025-c3e999b303fa"
   },
   "outputs": [
    {
     "data": {
      "text/plain": [
       "array(['No Deposit', 'Refundable', 'Non Refund'], dtype=object)"
      ]
     },
     "execution_count": 38,
     "metadata": {},
     "output_type": "execute_result"
    }
   ],
   "source": [
    "df[\"deposit_type\"].unique()"
   ]
  },
  {
   "cell_type": "code",
   "execution_count": 39,
   "metadata": {
    "id": "l8qnCyHYOgHm"
   },
   "outputs": [],
   "source": [
    "df = pd.get_dummies(df, prefix = None, columns = [\"deposit_type\"])"
   ]
  },
  {
   "cell_type": "code",
   "execution_count": 40,
   "metadata": {
    "colab": {
     "base_uri": "https://localhost:8080/"
    },
    "id": "kxZWQpXxRlrr",
    "outputId": "457f5cdf-4e47-4aba-a450-0ecdf3dc1559"
   },
   "outputs": [
    {
     "data": {
      "text/plain": [
       "array(['Check-Out', 'Canceled', 'No-Show'], dtype=object)"
      ]
     },
     "execution_count": 40,
     "metadata": {},
     "output_type": "execute_result"
    }
   ],
   "source": [
    "df[\"reservation_status\"].unique()"
   ]
  },
  {
   "cell_type": "code",
   "execution_count": 41,
   "metadata": {
    "id": "UHnfigWrStwo"
   },
   "outputs": [],
   "source": [
    "df = pd.get_dummies(df, prefix = None, columns = [\"reservation_status\"])"
   ]
  },
  {
   "cell_type": "code",
   "execution_count": 42,
   "metadata": {
    "colab": {
     "base_uri": "https://localhost:8080/"
    },
    "id": "wfzvOhWFS7Pg",
    "outputId": "a210e823-4cc2-4380-aa42-69c3fbc37ce6"
   },
   "outputs": [
    {
     "data": {
      "text/plain": [
       "array(['Transient', 'Contract', 'Transient-Party', 'Group'], dtype=object)"
      ]
     },
     "execution_count": 42,
     "metadata": {},
     "output_type": "execute_result"
    }
   ],
   "source": [
    "df[\"customer_type\"].unique()"
   ]
  },
  {
   "cell_type": "code",
   "execution_count": 43,
   "metadata": {
    "id": "1PPAgdPrTE52"
   },
   "outputs": [],
   "source": [
    "df = pd.get_dummies(df, prefix = None, columns = [\"customer_type\"])"
   ]
  },
  {
   "cell_type": "code",
   "execution_count": 44,
   "metadata": {
    "colab": {
     "base_uri": "https://localhost:8080/",
     "height": 505
    },
    "id": "RXT2n2IITMQg",
    "outputId": "aca7a0cd-e914-4643-bc8b-09729f7f203f"
   },
   "outputs": [
    {
     "data": {
      "text/html": [
       "<div>\n",
       "<style scoped>\n",
       "    .dataframe tbody tr th:only-of-type {\n",
       "        vertical-align: middle;\n",
       "    }\n",
       "\n",
       "    .dataframe tbody tr th {\n",
       "        vertical-align: top;\n",
       "    }\n",
       "\n",
       "    .dataframe thead th {\n",
       "        text-align: right;\n",
       "    }\n",
       "</style>\n",
       "<table border=\"1\" class=\"dataframe\">\n",
       "  <thead>\n",
       "    <tr style=\"text-align: right;\">\n",
       "      <th></th>\n",
       "      <th>is_canceled</th>\n",
       "      <th>lead_time</th>\n",
       "      <th>stays_in_weekend_nights</th>\n",
       "      <th>stays_in_week_nights</th>\n",
       "      <th>adults</th>\n",
       "      <th>country</th>\n",
       "      <th>is_repeated_guest</th>\n",
       "      <th>previous_cancellations</th>\n",
       "      <th>previous_bookings_not_canceled</th>\n",
       "      <th>reserved_room_type</th>\n",
       "      <th>...</th>\n",
       "      <th>deposit_type_No Deposit</th>\n",
       "      <th>deposit_type_Non Refund</th>\n",
       "      <th>deposit_type_Refundable</th>\n",
       "      <th>reservation_status_Canceled</th>\n",
       "      <th>reservation_status_Check-Out</th>\n",
       "      <th>reservation_status_No-Show</th>\n",
       "      <th>customer_type_Contract</th>\n",
       "      <th>customer_type_Group</th>\n",
       "      <th>customer_type_Transient</th>\n",
       "      <th>customer_type_Transient-Party</th>\n",
       "    </tr>\n",
       "  </thead>\n",
       "  <tbody>\n",
       "    <tr>\n",
       "      <th>0</th>\n",
       "      <td>0</td>\n",
       "      <td>342</td>\n",
       "      <td>0</td>\n",
       "      <td>0</td>\n",
       "      <td>2</td>\n",
       "      <td>PRT</td>\n",
       "      <td>0</td>\n",
       "      <td>0</td>\n",
       "      <td>0</td>\n",
       "      <td>C</td>\n",
       "      <td>...</td>\n",
       "      <td>1</td>\n",
       "      <td>0</td>\n",
       "      <td>0</td>\n",
       "      <td>0</td>\n",
       "      <td>1</td>\n",
       "      <td>0</td>\n",
       "      <td>0</td>\n",
       "      <td>0</td>\n",
       "      <td>1</td>\n",
       "      <td>0</td>\n",
       "    </tr>\n",
       "    <tr>\n",
       "      <th>1</th>\n",
       "      <td>0</td>\n",
       "      <td>737</td>\n",
       "      <td>0</td>\n",
       "      <td>0</td>\n",
       "      <td>2</td>\n",
       "      <td>PRT</td>\n",
       "      <td>0</td>\n",
       "      <td>0</td>\n",
       "      <td>0</td>\n",
       "      <td>C</td>\n",
       "      <td>...</td>\n",
       "      <td>1</td>\n",
       "      <td>0</td>\n",
       "      <td>0</td>\n",
       "      <td>0</td>\n",
       "      <td>1</td>\n",
       "      <td>0</td>\n",
       "      <td>0</td>\n",
       "      <td>0</td>\n",
       "      <td>1</td>\n",
       "      <td>0</td>\n",
       "    </tr>\n",
       "    <tr>\n",
       "      <th>2</th>\n",
       "      <td>0</td>\n",
       "      <td>7</td>\n",
       "      <td>0</td>\n",
       "      <td>1</td>\n",
       "      <td>1</td>\n",
       "      <td>GBR</td>\n",
       "      <td>0</td>\n",
       "      <td>0</td>\n",
       "      <td>0</td>\n",
       "      <td>A</td>\n",
       "      <td>...</td>\n",
       "      <td>1</td>\n",
       "      <td>0</td>\n",
       "      <td>0</td>\n",
       "      <td>0</td>\n",
       "      <td>1</td>\n",
       "      <td>0</td>\n",
       "      <td>0</td>\n",
       "      <td>0</td>\n",
       "      <td>1</td>\n",
       "      <td>0</td>\n",
       "    </tr>\n",
       "    <tr>\n",
       "      <th>3</th>\n",
       "      <td>0</td>\n",
       "      <td>13</td>\n",
       "      <td>0</td>\n",
       "      <td>1</td>\n",
       "      <td>1</td>\n",
       "      <td>GBR</td>\n",
       "      <td>0</td>\n",
       "      <td>0</td>\n",
       "      <td>0</td>\n",
       "      <td>A</td>\n",
       "      <td>...</td>\n",
       "      <td>1</td>\n",
       "      <td>0</td>\n",
       "      <td>0</td>\n",
       "      <td>0</td>\n",
       "      <td>1</td>\n",
       "      <td>0</td>\n",
       "      <td>0</td>\n",
       "      <td>0</td>\n",
       "      <td>1</td>\n",
       "      <td>0</td>\n",
       "    </tr>\n",
       "    <tr>\n",
       "      <th>4</th>\n",
       "      <td>0</td>\n",
       "      <td>14</td>\n",
       "      <td>0</td>\n",
       "      <td>2</td>\n",
       "      <td>2</td>\n",
       "      <td>GBR</td>\n",
       "      <td>0</td>\n",
       "      <td>0</td>\n",
       "      <td>0</td>\n",
       "      <td>A</td>\n",
       "      <td>...</td>\n",
       "      <td>1</td>\n",
       "      <td>0</td>\n",
       "      <td>0</td>\n",
       "      <td>0</td>\n",
       "      <td>1</td>\n",
       "      <td>0</td>\n",
       "      <td>0</td>\n",
       "      <td>0</td>\n",
       "      <td>1</td>\n",
       "      <td>0</td>\n",
       "    </tr>\n",
       "    <tr>\n",
       "      <th>...</th>\n",
       "      <td>...</td>\n",
       "      <td>...</td>\n",
       "      <td>...</td>\n",
       "      <td>...</td>\n",
       "      <td>...</td>\n",
       "      <td>...</td>\n",
       "      <td>...</td>\n",
       "      <td>...</td>\n",
       "      <td>...</td>\n",
       "      <td>...</td>\n",
       "      <td>...</td>\n",
       "      <td>...</td>\n",
       "      <td>...</td>\n",
       "      <td>...</td>\n",
       "      <td>...</td>\n",
       "      <td>...</td>\n",
       "      <td>...</td>\n",
       "      <td>...</td>\n",
       "      <td>...</td>\n",
       "      <td>...</td>\n",
       "      <td>...</td>\n",
       "    </tr>\n",
       "    <tr>\n",
       "      <th>119384</th>\n",
       "      <td>0</td>\n",
       "      <td>21</td>\n",
       "      <td>2</td>\n",
       "      <td>5</td>\n",
       "      <td>2</td>\n",
       "      <td>BEL</td>\n",
       "      <td>0</td>\n",
       "      <td>0</td>\n",
       "      <td>0</td>\n",
       "      <td>A</td>\n",
       "      <td>...</td>\n",
       "      <td>1</td>\n",
       "      <td>0</td>\n",
       "      <td>0</td>\n",
       "      <td>0</td>\n",
       "      <td>1</td>\n",
       "      <td>0</td>\n",
       "      <td>0</td>\n",
       "      <td>0</td>\n",
       "      <td>1</td>\n",
       "      <td>0</td>\n",
       "    </tr>\n",
       "    <tr>\n",
       "      <th>119385</th>\n",
       "      <td>0</td>\n",
       "      <td>23</td>\n",
       "      <td>2</td>\n",
       "      <td>5</td>\n",
       "      <td>2</td>\n",
       "      <td>BEL</td>\n",
       "      <td>0</td>\n",
       "      <td>0</td>\n",
       "      <td>0</td>\n",
       "      <td>A</td>\n",
       "      <td>...</td>\n",
       "      <td>1</td>\n",
       "      <td>0</td>\n",
       "      <td>0</td>\n",
       "      <td>0</td>\n",
       "      <td>1</td>\n",
       "      <td>0</td>\n",
       "      <td>0</td>\n",
       "      <td>0</td>\n",
       "      <td>1</td>\n",
       "      <td>0</td>\n",
       "    </tr>\n",
       "    <tr>\n",
       "      <th>119386</th>\n",
       "      <td>0</td>\n",
       "      <td>102</td>\n",
       "      <td>2</td>\n",
       "      <td>5</td>\n",
       "      <td>3</td>\n",
       "      <td>FRA</td>\n",
       "      <td>0</td>\n",
       "      <td>0</td>\n",
       "      <td>0</td>\n",
       "      <td>E</td>\n",
       "      <td>...</td>\n",
       "      <td>1</td>\n",
       "      <td>0</td>\n",
       "      <td>0</td>\n",
       "      <td>0</td>\n",
       "      <td>1</td>\n",
       "      <td>0</td>\n",
       "      <td>0</td>\n",
       "      <td>0</td>\n",
       "      <td>1</td>\n",
       "      <td>0</td>\n",
       "    </tr>\n",
       "    <tr>\n",
       "      <th>119388</th>\n",
       "      <td>0</td>\n",
       "      <td>109</td>\n",
       "      <td>2</td>\n",
       "      <td>5</td>\n",
       "      <td>2</td>\n",
       "      <td>GBR</td>\n",
       "      <td>0</td>\n",
       "      <td>0</td>\n",
       "      <td>0</td>\n",
       "      <td>A</td>\n",
       "      <td>...</td>\n",
       "      <td>1</td>\n",
       "      <td>0</td>\n",
       "      <td>0</td>\n",
       "      <td>0</td>\n",
       "      <td>1</td>\n",
       "      <td>0</td>\n",
       "      <td>0</td>\n",
       "      <td>0</td>\n",
       "      <td>1</td>\n",
       "      <td>0</td>\n",
       "    </tr>\n",
       "    <tr>\n",
       "      <th>119389</th>\n",
       "      <td>0</td>\n",
       "      <td>205</td>\n",
       "      <td>2</td>\n",
       "      <td>7</td>\n",
       "      <td>2</td>\n",
       "      <td>DEU</td>\n",
       "      <td>0</td>\n",
       "      <td>0</td>\n",
       "      <td>0</td>\n",
       "      <td>A</td>\n",
       "      <td>...</td>\n",
       "      <td>1</td>\n",
       "      <td>0</td>\n",
       "      <td>0</td>\n",
       "      <td>0</td>\n",
       "      <td>1</td>\n",
       "      <td>0</td>\n",
       "      <td>0</td>\n",
       "      <td>0</td>\n",
       "      <td>1</td>\n",
       "      <td>0</td>\n",
       "    </tr>\n",
       "  </tbody>\n",
       "</table>\n",
       "<p>86379 rows × 46 columns</p>\n",
       "</div>"
      ],
      "text/plain": [
       "        is_canceled  lead_time  stays_in_weekend_nights  stays_in_week_nights  \\\n",
       "0                 0        342                        0                     0   \n",
       "1                 0        737                        0                     0   \n",
       "2                 0          7                        0                     1   \n",
       "3                 0         13                        0                     1   \n",
       "4                 0         14                        0                     2   \n",
       "...             ...        ...                      ...                   ...   \n",
       "119384            0         21                        2                     5   \n",
       "119385            0         23                        2                     5   \n",
       "119386            0        102                        2                     5   \n",
       "119388            0        109                        2                     5   \n",
       "119389            0        205                        2                     7   \n",
       "\n",
       "        adults country  is_repeated_guest  previous_cancellations  \\\n",
       "0            2     PRT                  0                       0   \n",
       "1            2     PRT                  0                       0   \n",
       "2            1     GBR                  0                       0   \n",
       "3            1     GBR                  0                       0   \n",
       "4            2     GBR                  0                       0   \n",
       "...        ...     ...                ...                     ...   \n",
       "119384       2     BEL                  0                       0   \n",
       "119385       2     BEL                  0                       0   \n",
       "119386       3     FRA                  0                       0   \n",
       "119388       2     GBR                  0                       0   \n",
       "119389       2     DEU                  0                       0   \n",
       "\n",
       "        previous_bookings_not_canceled reserved_room_type  ...  \\\n",
       "0                                    0                  C  ...   \n",
       "1                                    0                  C  ...   \n",
       "2                                    0                  A  ...   \n",
       "3                                    0                  A  ...   \n",
       "4                                    0                  A  ...   \n",
       "...                                ...                ...  ...   \n",
       "119384                               0                  A  ...   \n",
       "119385                               0                  A  ...   \n",
       "119386                               0                  E  ...   \n",
       "119388                               0                  A  ...   \n",
       "119389                               0                  A  ...   \n",
       "\n",
       "       deposit_type_No Deposit  deposit_type_Non Refund  \\\n",
       "0                            1                        0   \n",
       "1                            1                        0   \n",
       "2                            1                        0   \n",
       "3                            1                        0   \n",
       "4                            1                        0   \n",
       "...                        ...                      ...   \n",
       "119384                       1                        0   \n",
       "119385                       1                        0   \n",
       "119386                       1                        0   \n",
       "119388                       1                        0   \n",
       "119389                       1                        0   \n",
       "\n",
       "        deposit_type_Refundable  reservation_status_Canceled  \\\n",
       "0                             0                            0   \n",
       "1                             0                            0   \n",
       "2                             0                            0   \n",
       "3                             0                            0   \n",
       "4                             0                            0   \n",
       "...                         ...                          ...   \n",
       "119384                        0                            0   \n",
       "119385                        0                            0   \n",
       "119386                        0                            0   \n",
       "119388                        0                            0   \n",
       "119389                        0                            0   \n",
       "\n",
       "        reservation_status_Check-Out  reservation_status_No-Show  \\\n",
       "0                                  1                           0   \n",
       "1                                  1                           0   \n",
       "2                                  1                           0   \n",
       "3                                  1                           0   \n",
       "4                                  1                           0   \n",
       "...                              ...                         ...   \n",
       "119384                             1                           0   \n",
       "119385                             1                           0   \n",
       "119386                             1                           0   \n",
       "119388                             1                           0   \n",
       "119389                             1                           0   \n",
       "\n",
       "       customer_type_Contract  customer_type_Group customer_type_Transient  \\\n",
       "0                           0                    0                       1   \n",
       "1                           0                    0                       1   \n",
       "2                           0                    0                       1   \n",
       "3                           0                    0                       1   \n",
       "4                           0                    0                       1   \n",
       "...                       ...                  ...                     ...   \n",
       "119384                      0                    0                       1   \n",
       "119385                      0                    0                       1   \n",
       "119386                      0                    0                       1   \n",
       "119388                      0                    0                       1   \n",
       "119389                      0                    0                       1   \n",
       "\n",
       "        customer_type_Transient-Party  \n",
       "0                                   0  \n",
       "1                                   0  \n",
       "2                                   0  \n",
       "3                                   0  \n",
       "4                                   0  \n",
       "...                               ...  \n",
       "119384                              0  \n",
       "119385                              0  \n",
       "119386                              0  \n",
       "119388                              0  \n",
       "119389                              0  \n",
       "\n",
       "[86379 rows x 46 columns]"
      ]
     },
     "execution_count": 44,
     "metadata": {},
     "output_type": "execute_result"
    }
   ],
   "source": [
    "df"
   ]
  },
  {
   "cell_type": "code",
   "execution_count": 45,
   "metadata": {
    "id": "ia0JIILOTk17"
   },
   "outputs": [],
   "source": [
    "country_frame = pd.DataFrame(df['country'].value_counts('PRT'))"
   ]
  },
  {
   "cell_type": "markdown",
   "metadata": {
    "id": "duiIp_FuVxBz"
   },
   "source": [
    "We map each element in the country column to a corresponding weight based on their count with respect to the count of the country with the highest count in the entire column, and then replace with their corresponding weights."
   ]
  },
  {
   "cell_type": "code",
   "execution_count": 46,
   "metadata": {
    "id": "ZwM2Ed62T0c2"
   },
   "outputs": [],
   "source": [
    "country_frame.reset_index(inplace = True)"
   ]
  },
  {
   "cell_type": "code",
   "execution_count": 47,
   "metadata": {
    "id": "ace2ZfrKUIxa"
   },
   "outputs": [],
   "source": [
    "country_dict = {}\n",
    "for i in range(country_frame.shape[0]):\n",
    "  country_dict[country_frame[\"index\"][i]] = country_frame[\"country\"][i]"
   ]
  },
  {
   "cell_type": "code",
   "execution_count": 48,
   "metadata": {
    "colab": {
     "base_uri": "https://localhost:8080/"
    },
    "id": "26mGUghEX2-x",
    "outputId": "9ae4a2d8-39e5-4e47-dc17-85d5acc9d52a"
   },
   "outputs": [
    {
     "data": {
      "text/plain": [
       "{'PRT': 0.317403535581565,\n",
       " 'GBR': 0.1198439435510946,\n",
       " 'FRA': 0.10130934602160248,\n",
       " 'ESP': 0.08344620799036803,\n",
       " 'DEU': 0.06161219740909249,\n",
       " 'ITA': 0.03495062457310226,\n",
       " 'IRL': 0.034765394366686346,\n",
       " 'BEL': 0.023894696627652555,\n",
       " 'BRA': 0.02286435360446405,\n",
       " 'NLD': 0.02198451012398847,\n",
       " 'USA': 0.02152143460794869,\n",
       " 'CHE': 0.018071522013452343,\n",
       " 'CN': 0.012607230924182962,\n",
       " 'AUT': 0.010743351972122854,\n",
       " 'SWE': 0.009631970733627386,\n",
       " 'CHN': 0.009377279199805508,\n",
       " 'POL': 0.008728973477349819,\n",
       " 'RUS': 0.006402019009249933,\n",
       " 'NOR': 0.005915789717408166,\n",
       " 'ROU': 0.005255907107051482,\n",
       " 'FIN': 0.00488544669421966,\n",
       " 'ISR': 0.004514986281387837,\n",
       " 'DNK': 0.004410794290278887,\n",
       " 'AUS': 0.004364486738674909,\n",
       " 'AGO': 0.003936141886338115,\n",
       " 'LUX': 0.003009990854258558,\n",
       " 'MAR': 0.002674261105129719,\n",
       " 'TUR': 0.0024311464592088354,\n",
       " 'ARG': 0.0023501082439018744,\n",
       " 'HUN': 0.0023269544680998852,\n",
       " 'JPN': 0.002106993597980991,\n",
       " 'IND': 0.0016439180819412126,\n",
       " 'CZE': 0.001528149202931268,\n",
       " 'KOR': 0.0013776496602183402,\n",
       " 'GRC': 0.0013429189965153568,\n",
       " 'HRV': 0.0010534967989904954,\n",
       " 'DZA': 0.0009493048078815453,\n",
       " 'IRN': 0.0009261510320795564,\n",
       " 'EST': 0.0009145741441785619,\n",
       " 'ZAF': 0.0009029972562775674,\n",
       " 'MEX': 0.0008566897046735897,\n",
       " 'LTU': 0.0008451128167725952,\n",
       " 'COL': 0.0007988052651686174,\n",
       " 'BGR': 0.000764074601465634,\n",
       " 'CHL': 0.0007524977135646395,\n",
       " 'UKR': 0.0007177670498616562,\n",
       " 'NZL': 0.0007061901619606618,\n",
       " 'MOZ': 0.000636728834554695,\n",
       " 'SRB': 0.0006019981708517116,\n",
       " 'LVA': 0.0005672675071487283,\n",
       " 'SVK': 0.0005556906192477338,\n",
       " 'ARE': 0.0005556906192477338,\n",
       " 'CYP': 0.0005209599555447505,\n",
       " 'SAU': 0.000509383067643756,\n",
       " 'SVN': 0.0004978061797427615,\n",
       " 'TWN': 0.0004978061797427615,\n",
       " 'THA': 0.0004630755160397782,\n",
       " 'TUN': 0.00042834485233679483,\n",
       " 'SGP': 0.00039361418863381145,\n",
       " 'PHL': 0.0003704604128318226,\n",
       " 'NGA': 0.00034730663702983364,\n",
       " 'URY': 0.00034730663702983364,\n",
       " 'LBN': 0.0003357297491288392,\n",
       " 'EGY': 0.0003357297491288392,\n",
       " 'PER': 0.0003009990854258558,\n",
       " 'IDN': 0.0002894221975248614,\n",
       " 'ECU': 0.0002894221975248614,\n",
       " 'MYS': 0.0002778453096238669,\n",
       " 'BLR': 0.00026626842172287245,\n",
       " 'HKG': 0.00026626842172287245,\n",
       " 'CPV': 0.00026626842172287245,\n",
       " 'VEN': 0.00024311464592088354,\n",
       " 'ISL': 0.0002315377580198891,\n",
       " 'GEO': 0.00021996087011889463,\n",
       " 'JOR': 0.0002083839822179002,\n",
       " 'KAZ': 0.0002083839822179002,\n",
       " 'CRI': 0.0002083839822179002,\n",
       " 'OMN': 0.00019680709431690573,\n",
       " 'MLT': 0.00019680709431690573,\n",
       " 'KWT': 0.0001852302064159113,\n",
       " 'AZE': 0.0001852302064159113,\n",
       " 'GIB': 0.00017365331851491682,\n",
       " 'QAT': 0.00016207643061392235,\n",
       " 'PAK': 0.0001504995427129279,\n",
       " 'BIH': 0.00013892265481193344,\n",
       " 'MDV': 0.00013892265481193344,\n",
       " 'IRQ': 0.000127345766910939,\n",
       " 'DOM': 0.000127345766910939,\n",
       " 'PRI': 0.000127345766910939,\n",
       " 'SEN': 0.000127345766910939,\n",
       " 'ALB': 0.000127345766910939,\n",
       " 'MAC': 0.00011576887900994455,\n",
       " 'BGD': 0.00011576887900994455,\n",
       " 'CMR': 0.00011576887900994455,\n",
       " 'GNB': 0.0001041919911089501,\n",
       " 'MKD': 0.0001041919911089501,\n",
       " 'PAN': 9.261510320795564e-05,\n",
       " 'VNM': 9.261510320795564e-05,\n",
       " 'LBY': 9.261510320795564e-05,\n",
       " 'JEY': 9.261510320795564e-05,\n",
       " 'CUB': 9.261510320795564e-05,\n",
       " 'ARM': 9.261510320795564e-05,\n",
       " 'MUS': 8.103821530696118e-05,\n",
       " 'AND': 8.103821530696118e-05,\n",
       " 'JAM': 6.946132740596672e-05,\n",
       " 'CIV': 6.946132740596672e-05,\n",
       " 'KEN': 6.946132740596672e-05,\n",
       " 'LKA': 6.946132740596672e-05,\n",
       " 'CAF': 5.7884439504972276e-05,\n",
       " 'TZA': 5.7884439504972276e-05,\n",
       " 'MNE': 5.7884439504972276e-05,\n",
       " 'BHR': 5.7884439504972276e-05,\n",
       " 'GAB': 4.630755160397782e-05,\n",
       " 'GHA': 4.630755160397782e-05,\n",
       " 'UZB': 4.630755160397782e-05,\n",
       " 'PRY': 4.630755160397782e-05,\n",
       " 'MCO': 4.630755160397782e-05,\n",
       " 'SUR': 4.630755160397782e-05,\n",
       " 'ZWE': 4.630755160397782e-05,\n",
       " 'BOL': 3.473066370298336e-05,\n",
       " 'TMP': 3.473066370298336e-05,\n",
       " 'LIE': 3.473066370298336e-05,\n",
       " 'FRO': 3.473066370298336e-05,\n",
       " 'ETH': 3.473066370298336e-05,\n",
       " 'BEN': 3.473066370298336e-05,\n",
       " 'SYR': 3.473066370298336e-05,\n",
       " 'GTM': 3.473066370298336e-05,\n",
       " 'SYC': 2.315377580198891e-05,\n",
       " 'BRB': 2.315377580198891e-05,\n",
       " 'ABW': 2.315377580198891e-05,\n",
       " 'MYT': 2.315377580198891e-05,\n",
       " 'UGA': 2.315377580198891e-05,\n",
       " 'SLV': 2.315377580198891e-05,\n",
       " 'GGY': 2.315377580198891e-05,\n",
       " 'ATA': 2.315377580198891e-05,\n",
       " 'COM': 2.315377580198891e-05,\n",
       " 'LAO': 2.315377580198891e-05,\n",
       " 'STP': 2.315377580198891e-05,\n",
       " 'MWI': 2.315377580198891e-05,\n",
       " 'TJK': 2.315377580198891e-05,\n",
       " 'IMN': 2.315377580198891e-05,\n",
       " 'ZMB': 2.315377580198891e-05,\n",
       " 'RWA': 2.315377580198891e-05,\n",
       " 'TGO': 2.315377580198891e-05,\n",
       " 'KNA': 2.315377580198891e-05,\n",
       " 'BHS': 1.1576887900994455e-05,\n",
       " 'DMA': 1.1576887900994455e-05,\n",
       " 'PYF': 1.1576887900994455e-05,\n",
       " 'GUY': 1.1576887900994455e-05,\n",
       " 'LCA': 1.1576887900994455e-05,\n",
       " 'MRT': 1.1576887900994455e-05,\n",
       " 'NPL': 1.1576887900994455e-05,\n",
       " 'ASM': 1.1576887900994455e-05,\n",
       " 'NCL': 1.1576887900994455e-05,\n",
       " 'KIR': 1.1576887900994455e-05,\n",
       " 'SDN': 1.1576887900994455e-05,\n",
       " 'ATF': 1.1576887900994455e-05,\n",
       " 'SLE': 1.1576887900994455e-05,\n",
       " 'AIA': 1.1576887900994455e-05,\n",
       " 'NIC': 1.1576887900994455e-05,\n",
       " 'CYM': 1.1576887900994455e-05,\n",
       " 'HND': 1.1576887900994455e-05,\n",
       " 'PLW': 1.1576887900994455e-05,\n",
       " 'BDI': 1.1576887900994455e-05,\n",
       " 'GLP': 1.1576887900994455e-05,\n",
       " 'KHM': 1.1576887900994455e-05,\n",
       " 'MDG': 1.1576887900994455e-05,\n",
       " 'UMI': 1.1576887900994455e-05,\n",
       " 'BWA': 1.1576887900994455e-05,\n",
       " 'DJI': 1.1576887900994455e-05,\n",
       " 'MMR': 1.1576887900994455e-05,\n",
       " 'BFA': 1.1576887900994455e-05,\n",
       " 'FJI': 1.1576887900994455e-05,\n",
       " 'MLI': 1.1576887900994455e-05,\n",
       " 'NAM': 1.1576887900994455e-05,\n",
       " 'VGB': 1.1576887900994455e-05,\n",
       " 'SMR': 1.1576887900994455e-05}"
      ]
     },
     "execution_count": 48,
     "metadata": {},
     "output_type": "execute_result"
    }
   ],
   "source": [
    "country_dict"
   ]
  },
  {
   "cell_type": "code",
   "execution_count": 49,
   "metadata": {
    "colab": {
     "base_uri": "https://localhost:8080/",
     "height": 505
    },
    "id": "X1llqGzRej2I",
    "outputId": "cadc1cf1-f417-46df-bc4d-cf393be4ea93"
   },
   "outputs": [
    {
     "data": {
      "text/html": [
       "<div>\n",
       "<style scoped>\n",
       "    .dataframe tbody tr th:only-of-type {\n",
       "        vertical-align: middle;\n",
       "    }\n",
       "\n",
       "    .dataframe tbody tr th {\n",
       "        vertical-align: top;\n",
       "    }\n",
       "\n",
       "    .dataframe thead th {\n",
       "        text-align: right;\n",
       "    }\n",
       "</style>\n",
       "<table border=\"1\" class=\"dataframe\">\n",
       "  <thead>\n",
       "    <tr style=\"text-align: right;\">\n",
       "      <th></th>\n",
       "      <th>is_canceled</th>\n",
       "      <th>lead_time</th>\n",
       "      <th>stays_in_weekend_nights</th>\n",
       "      <th>stays_in_week_nights</th>\n",
       "      <th>adults</th>\n",
       "      <th>country</th>\n",
       "      <th>is_repeated_guest</th>\n",
       "      <th>previous_cancellations</th>\n",
       "      <th>previous_bookings_not_canceled</th>\n",
       "      <th>reserved_room_type</th>\n",
       "      <th>...</th>\n",
       "      <th>deposit_type_No Deposit</th>\n",
       "      <th>deposit_type_Non Refund</th>\n",
       "      <th>deposit_type_Refundable</th>\n",
       "      <th>reservation_status_Canceled</th>\n",
       "      <th>reservation_status_Check-Out</th>\n",
       "      <th>reservation_status_No-Show</th>\n",
       "      <th>customer_type_Contract</th>\n",
       "      <th>customer_type_Group</th>\n",
       "      <th>customer_type_Transient</th>\n",
       "      <th>customer_type_Transient-Party</th>\n",
       "    </tr>\n",
       "  </thead>\n",
       "  <tbody>\n",
       "    <tr>\n",
       "      <th>0</th>\n",
       "      <td>0</td>\n",
       "      <td>342</td>\n",
       "      <td>0</td>\n",
       "      <td>0</td>\n",
       "      <td>2</td>\n",
       "      <td>0.317404</td>\n",
       "      <td>0</td>\n",
       "      <td>0</td>\n",
       "      <td>0</td>\n",
       "      <td>C</td>\n",
       "      <td>...</td>\n",
       "      <td>1</td>\n",
       "      <td>0</td>\n",
       "      <td>0</td>\n",
       "      <td>0</td>\n",
       "      <td>1</td>\n",
       "      <td>0</td>\n",
       "      <td>0</td>\n",
       "      <td>0</td>\n",
       "      <td>1</td>\n",
       "      <td>0</td>\n",
       "    </tr>\n",
       "    <tr>\n",
       "      <th>1</th>\n",
       "      <td>0</td>\n",
       "      <td>737</td>\n",
       "      <td>0</td>\n",
       "      <td>0</td>\n",
       "      <td>2</td>\n",
       "      <td>0.317404</td>\n",
       "      <td>0</td>\n",
       "      <td>0</td>\n",
       "      <td>0</td>\n",
       "      <td>C</td>\n",
       "      <td>...</td>\n",
       "      <td>1</td>\n",
       "      <td>0</td>\n",
       "      <td>0</td>\n",
       "      <td>0</td>\n",
       "      <td>1</td>\n",
       "      <td>0</td>\n",
       "      <td>0</td>\n",
       "      <td>0</td>\n",
       "      <td>1</td>\n",
       "      <td>0</td>\n",
       "    </tr>\n",
       "    <tr>\n",
       "      <th>2</th>\n",
       "      <td>0</td>\n",
       "      <td>7</td>\n",
       "      <td>0</td>\n",
       "      <td>1</td>\n",
       "      <td>1</td>\n",
       "      <td>0.119844</td>\n",
       "      <td>0</td>\n",
       "      <td>0</td>\n",
       "      <td>0</td>\n",
       "      <td>A</td>\n",
       "      <td>...</td>\n",
       "      <td>1</td>\n",
       "      <td>0</td>\n",
       "      <td>0</td>\n",
       "      <td>0</td>\n",
       "      <td>1</td>\n",
       "      <td>0</td>\n",
       "      <td>0</td>\n",
       "      <td>0</td>\n",
       "      <td>1</td>\n",
       "      <td>0</td>\n",
       "    </tr>\n",
       "    <tr>\n",
       "      <th>3</th>\n",
       "      <td>0</td>\n",
       "      <td>13</td>\n",
       "      <td>0</td>\n",
       "      <td>1</td>\n",
       "      <td>1</td>\n",
       "      <td>0.119844</td>\n",
       "      <td>0</td>\n",
       "      <td>0</td>\n",
       "      <td>0</td>\n",
       "      <td>A</td>\n",
       "      <td>...</td>\n",
       "      <td>1</td>\n",
       "      <td>0</td>\n",
       "      <td>0</td>\n",
       "      <td>0</td>\n",
       "      <td>1</td>\n",
       "      <td>0</td>\n",
       "      <td>0</td>\n",
       "      <td>0</td>\n",
       "      <td>1</td>\n",
       "      <td>0</td>\n",
       "    </tr>\n",
       "    <tr>\n",
       "      <th>4</th>\n",
       "      <td>0</td>\n",
       "      <td>14</td>\n",
       "      <td>0</td>\n",
       "      <td>2</td>\n",
       "      <td>2</td>\n",
       "      <td>0.119844</td>\n",
       "      <td>0</td>\n",
       "      <td>0</td>\n",
       "      <td>0</td>\n",
       "      <td>A</td>\n",
       "      <td>...</td>\n",
       "      <td>1</td>\n",
       "      <td>0</td>\n",
       "      <td>0</td>\n",
       "      <td>0</td>\n",
       "      <td>1</td>\n",
       "      <td>0</td>\n",
       "      <td>0</td>\n",
       "      <td>0</td>\n",
       "      <td>1</td>\n",
       "      <td>0</td>\n",
       "    </tr>\n",
       "    <tr>\n",
       "      <th>...</th>\n",
       "      <td>...</td>\n",
       "      <td>...</td>\n",
       "      <td>...</td>\n",
       "      <td>...</td>\n",
       "      <td>...</td>\n",
       "      <td>...</td>\n",
       "      <td>...</td>\n",
       "      <td>...</td>\n",
       "      <td>...</td>\n",
       "      <td>...</td>\n",
       "      <td>...</td>\n",
       "      <td>...</td>\n",
       "      <td>...</td>\n",
       "      <td>...</td>\n",
       "      <td>...</td>\n",
       "      <td>...</td>\n",
       "      <td>...</td>\n",
       "      <td>...</td>\n",
       "      <td>...</td>\n",
       "      <td>...</td>\n",
       "      <td>...</td>\n",
       "    </tr>\n",
       "    <tr>\n",
       "      <th>119384</th>\n",
       "      <td>0</td>\n",
       "      <td>21</td>\n",
       "      <td>2</td>\n",
       "      <td>5</td>\n",
       "      <td>2</td>\n",
       "      <td>0.023895</td>\n",
       "      <td>0</td>\n",
       "      <td>0</td>\n",
       "      <td>0</td>\n",
       "      <td>A</td>\n",
       "      <td>...</td>\n",
       "      <td>1</td>\n",
       "      <td>0</td>\n",
       "      <td>0</td>\n",
       "      <td>0</td>\n",
       "      <td>1</td>\n",
       "      <td>0</td>\n",
       "      <td>0</td>\n",
       "      <td>0</td>\n",
       "      <td>1</td>\n",
       "      <td>0</td>\n",
       "    </tr>\n",
       "    <tr>\n",
       "      <th>119385</th>\n",
       "      <td>0</td>\n",
       "      <td>23</td>\n",
       "      <td>2</td>\n",
       "      <td>5</td>\n",
       "      <td>2</td>\n",
       "      <td>0.023895</td>\n",
       "      <td>0</td>\n",
       "      <td>0</td>\n",
       "      <td>0</td>\n",
       "      <td>A</td>\n",
       "      <td>...</td>\n",
       "      <td>1</td>\n",
       "      <td>0</td>\n",
       "      <td>0</td>\n",
       "      <td>0</td>\n",
       "      <td>1</td>\n",
       "      <td>0</td>\n",
       "      <td>0</td>\n",
       "      <td>0</td>\n",
       "      <td>1</td>\n",
       "      <td>0</td>\n",
       "    </tr>\n",
       "    <tr>\n",
       "      <th>119386</th>\n",
       "      <td>0</td>\n",
       "      <td>102</td>\n",
       "      <td>2</td>\n",
       "      <td>5</td>\n",
       "      <td>3</td>\n",
       "      <td>0.101309</td>\n",
       "      <td>0</td>\n",
       "      <td>0</td>\n",
       "      <td>0</td>\n",
       "      <td>E</td>\n",
       "      <td>...</td>\n",
       "      <td>1</td>\n",
       "      <td>0</td>\n",
       "      <td>0</td>\n",
       "      <td>0</td>\n",
       "      <td>1</td>\n",
       "      <td>0</td>\n",
       "      <td>0</td>\n",
       "      <td>0</td>\n",
       "      <td>1</td>\n",
       "      <td>0</td>\n",
       "    </tr>\n",
       "    <tr>\n",
       "      <th>119388</th>\n",
       "      <td>0</td>\n",
       "      <td>109</td>\n",
       "      <td>2</td>\n",
       "      <td>5</td>\n",
       "      <td>2</td>\n",
       "      <td>0.119844</td>\n",
       "      <td>0</td>\n",
       "      <td>0</td>\n",
       "      <td>0</td>\n",
       "      <td>A</td>\n",
       "      <td>...</td>\n",
       "      <td>1</td>\n",
       "      <td>0</td>\n",
       "      <td>0</td>\n",
       "      <td>0</td>\n",
       "      <td>1</td>\n",
       "      <td>0</td>\n",
       "      <td>0</td>\n",
       "      <td>0</td>\n",
       "      <td>1</td>\n",
       "      <td>0</td>\n",
       "    </tr>\n",
       "    <tr>\n",
       "      <th>119389</th>\n",
       "      <td>0</td>\n",
       "      <td>205</td>\n",
       "      <td>2</td>\n",
       "      <td>7</td>\n",
       "      <td>2</td>\n",
       "      <td>0.061612</td>\n",
       "      <td>0</td>\n",
       "      <td>0</td>\n",
       "      <td>0</td>\n",
       "      <td>A</td>\n",
       "      <td>...</td>\n",
       "      <td>1</td>\n",
       "      <td>0</td>\n",
       "      <td>0</td>\n",
       "      <td>0</td>\n",
       "      <td>1</td>\n",
       "      <td>0</td>\n",
       "      <td>0</td>\n",
       "      <td>0</td>\n",
       "      <td>1</td>\n",
       "      <td>0</td>\n",
       "    </tr>\n",
       "  </tbody>\n",
       "</table>\n",
       "<p>86379 rows × 46 columns</p>\n",
       "</div>"
      ],
      "text/plain": [
       "        is_canceled  lead_time  stays_in_weekend_nights  stays_in_week_nights  \\\n",
       "0                 0        342                        0                     0   \n",
       "1                 0        737                        0                     0   \n",
       "2                 0          7                        0                     1   \n",
       "3                 0         13                        0                     1   \n",
       "4                 0         14                        0                     2   \n",
       "...             ...        ...                      ...                   ...   \n",
       "119384            0         21                        2                     5   \n",
       "119385            0         23                        2                     5   \n",
       "119386            0        102                        2                     5   \n",
       "119388            0        109                        2                     5   \n",
       "119389            0        205                        2                     7   \n",
       "\n",
       "        adults   country  is_repeated_guest  previous_cancellations  \\\n",
       "0            2  0.317404                  0                       0   \n",
       "1            2  0.317404                  0                       0   \n",
       "2            1  0.119844                  0                       0   \n",
       "3            1  0.119844                  0                       0   \n",
       "4            2  0.119844                  0                       0   \n",
       "...        ...       ...                ...                     ...   \n",
       "119384       2  0.023895                  0                       0   \n",
       "119385       2  0.023895                  0                       0   \n",
       "119386       3  0.101309                  0                       0   \n",
       "119388       2  0.119844                  0                       0   \n",
       "119389       2  0.061612                  0                       0   \n",
       "\n",
       "        previous_bookings_not_canceled reserved_room_type  ...  \\\n",
       "0                                    0                  C  ...   \n",
       "1                                    0                  C  ...   \n",
       "2                                    0                  A  ...   \n",
       "3                                    0                  A  ...   \n",
       "4                                    0                  A  ...   \n",
       "...                                ...                ...  ...   \n",
       "119384                               0                  A  ...   \n",
       "119385                               0                  A  ...   \n",
       "119386                               0                  E  ...   \n",
       "119388                               0                  A  ...   \n",
       "119389                               0                  A  ...   \n",
       "\n",
       "       deposit_type_No Deposit  deposit_type_Non Refund  \\\n",
       "0                            1                        0   \n",
       "1                            1                        0   \n",
       "2                            1                        0   \n",
       "3                            1                        0   \n",
       "4                            1                        0   \n",
       "...                        ...                      ...   \n",
       "119384                       1                        0   \n",
       "119385                       1                        0   \n",
       "119386                       1                        0   \n",
       "119388                       1                        0   \n",
       "119389                       1                        0   \n",
       "\n",
       "        deposit_type_Refundable  reservation_status_Canceled  \\\n",
       "0                             0                            0   \n",
       "1                             0                            0   \n",
       "2                             0                            0   \n",
       "3                             0                            0   \n",
       "4                             0                            0   \n",
       "...                         ...                          ...   \n",
       "119384                        0                            0   \n",
       "119385                        0                            0   \n",
       "119386                        0                            0   \n",
       "119388                        0                            0   \n",
       "119389                        0                            0   \n",
       "\n",
       "        reservation_status_Check-Out  reservation_status_No-Show  \\\n",
       "0                                  1                           0   \n",
       "1                                  1                           0   \n",
       "2                                  1                           0   \n",
       "3                                  1                           0   \n",
       "4                                  1                           0   \n",
       "...                              ...                         ...   \n",
       "119384                             1                           0   \n",
       "119385                             1                           0   \n",
       "119386                             1                           0   \n",
       "119388                             1                           0   \n",
       "119389                             1                           0   \n",
       "\n",
       "       customer_type_Contract  customer_type_Group customer_type_Transient  \\\n",
       "0                           0                    0                       1   \n",
       "1                           0                    0                       1   \n",
       "2                           0                    0                       1   \n",
       "3                           0                    0                       1   \n",
       "4                           0                    0                       1   \n",
       "...                       ...                  ...                     ...   \n",
       "119384                      0                    0                       1   \n",
       "119385                      0                    0                       1   \n",
       "119386                      0                    0                       1   \n",
       "119388                      0                    0                       1   \n",
       "119389                      0                    0                       1   \n",
       "\n",
       "        customer_type_Transient-Party  \n",
       "0                                   0  \n",
       "1                                   0  \n",
       "2                                   0  \n",
       "3                                   0  \n",
       "4                                   0  \n",
       "...                               ...  \n",
       "119384                              0  \n",
       "119385                              0  \n",
       "119386                              0  \n",
       "119388                              0  \n",
       "119389                              0  \n",
       "\n",
       "[86379 rows x 46 columns]"
      ]
     },
     "execution_count": 49,
     "metadata": {},
     "output_type": "execute_result"
    }
   ],
   "source": [
    "df.replace({\"country\": country_dict})"
   ]
  },
  {
   "cell_type": "code",
   "execution_count": 92,
   "metadata": {
    "id": "7eMSZxfvVYj8"
   },
   "outputs": [],
   "source": []
  }
 ],
 "metadata": {
  "colab": {
   "collapsed_sections": [],
   "name": "60009200061_FDA_Exp7.ipynb",
   "provenance": []
  },
  "kernelspec": {
   "display_name": "Python 3 (ipykernel)",
   "language": "python",
   "name": "python3"
  },
  "language_info": {
   "codemirror_mode": {
    "name": "ipython",
    "version": 3
   },
   "file_extension": ".py",
   "mimetype": "text/x-python",
   "name": "python",
   "nbconvert_exporter": "python",
   "pygments_lexer": "ipython3",
   "version": "3.9.7"
  }
 },
 "nbformat": 4,
 "nbformat_minor": 1
}
