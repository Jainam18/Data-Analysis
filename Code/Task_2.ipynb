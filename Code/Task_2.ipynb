{
  "cells": [
    {
      "cell_type": "markdown",
      "metadata": {
        "id": "MC97PSZ3STRu"
      },
      "source": [
        "**Question 1**"
      ]
    },
    {
      "cell_type": "code",
      "execution_count": 1,
      "metadata": {
        "id": "9iITsu34S5IB"
      },
      "outputs": [],
      "source": [
        "%matplotlib inline\n",
        "\n",
        "import sys\n",
        "import scipy\n",
        "import scipy.stats as ss\n",
        "import numpy as np\n",
        "import matplotlib\n",
        "import matplotlib.pyplot as plt\n",
        "import pandas as pd\n",
        "import random"
      ]
    },
    {
      "cell_type": "code",
      "execution_count": 2,
      "metadata": {
        "colab": {
          "base_uri": "https://localhost:8080/",
          "height": 223
        },
        "id": "KM9iruepSrMf",
        "outputId": "9f7f1987-bbdc-4b3a-ca26-bffbd28b5f23"
      },
      "outputs": [
        {
          "name": "stdout",
          "output_type": "stream",
          "text": [
            "(130, 2)\n"
          ]
        },
        {
          "data": {
            "text/html": [
              "<div>\n",
              "<style scoped>\n",
              "    .dataframe tbody tr th:only-of-type {\n",
              "        vertical-align: middle;\n",
              "    }\n",
              "\n",
              "    .dataframe tbody tr th {\n",
              "        vertical-align: top;\n",
              "    }\n",
              "\n",
              "    .dataframe thead th {\n",
              "        text-align: right;\n",
              "    }\n",
              "</style>\n",
              "<table border=\"1\" class=\"dataframe\">\n",
              "  <thead>\n",
              "    <tr style=\"text-align: right;\">\n",
              "      <th></th>\n",
              "      <th>District</th>\n",
              "      <th>Participation Rate</th>\n",
              "    </tr>\n",
              "  </thead>\n",
              "  <tbody>\n",
              "    <tr>\n",
              "      <th>0</th>\n",
              "      <td>Ansonia</td>\n",
              "      <td>0.66</td>\n",
              "    </tr>\n",
              "    <tr>\n",
              "      <th>1</th>\n",
              "      <td>Avon</td>\n",
              "      <td>0.90</td>\n",
              "    </tr>\n",
              "    <tr>\n",
              "      <th>2</th>\n",
              "      <td>Berlin</td>\n",
              "      <td>0.81</td>\n",
              "    </tr>\n",
              "    <tr>\n",
              "      <th>3</th>\n",
              "      <td>Bethel</td>\n",
              "      <td>0.86</td>\n",
              "    </tr>\n",
              "    <tr>\n",
              "      <th>4</th>\n",
              "      <td>Bloomfield</td>\n",
              "      <td>0.81</td>\n",
              "    </tr>\n",
              "  </tbody>\n",
              "</table>\n",
              "</div>"
            ],
            "text/plain": [
              "     District  Participation Rate\n",
              "0     Ansonia                0.66\n",
              "1        Avon                0.90\n",
              "2      Berlin                0.81\n",
              "3      Bethel                0.86\n",
              "4  Bloomfield                0.81"
            ]
          },
          "execution_count": 2,
          "metadata": {},
          "output_type": "execute_result"
        }
      ],
      "source": [
        "ct_test = pd.read_csv('../Dataset/SAT_CT_District_Participation_2012.csv') \n",
        "print(ct_test.shape)\n",
        "ct_test.head()"
      ]
    },
    {
      "cell_type": "code",
      "execution_count": 3,
      "metadata": {
        "id": "ZrPfayeAUTGR"
      },
      "outputs": [],
      "source": [
        "mean_rate = ct_test['Participation Rate'].mean()\n",
        "\n",
        "\n",
        "# ddof is the degrees of freedom correction \n",
        "# in the calculation of the standard deviation;\n",
        "# for population standard deviation ddof=0\n",
        "stdev_rate = ct_test['Participation Rate'].std(ddof=0)\n"
      ]
    },
    {
      "cell_type": "markdown",
      "metadata": {
        "id": "Z-juxEoAXOfl"
      },
      "source": []
    },
    {
      "cell_type": "code",
      "execution_count": 4,
      "metadata": {
        "colab": {
          "base_uri": "https://localhost:8080/"
        },
        "id": "yiIGA5wFU5xW",
        "outputId": "e3c8a2a6-5c68-4eec-d116-f54557a88853"
      },
      "outputs": [
        {
          "name": "stdout",
          "output_type": "stream",
          "text": [
            "Mean participation rate is 0.741\n",
            "Standard deviation is 0.136\n"
          ]
        }
      ],
      "source": [
        "print('Mean participation rate is {:.3f}'.format(mean_rate))\n",
        "print('Standard deviation is {:.3f}'.format(stdev_rate))"
      ]
    },
    {
      "cell_type": "markdown",
      "metadata": {
        "id": "7Vh2RGMOU_U9"
      },
      "source": [
        "Calculate the z-score and add the result to the dataframe."
      ]
    },
    {
      "cell_type": "code",
      "execution_count": 5,
      "metadata": {
        "colab": {
          "base_uri": "https://localhost:8080/",
          "height": 300
        },
        "id": "MPWIv3uNVB_C",
        "outputId": "98bc8f82-52fa-4f91-af50-4b72dc7f503f"
      },
      "outputs": [
        {
          "data": {
            "text/html": [
              "<div>\n",
              "<style scoped>\n",
              "    .dataframe tbody tr th:only-of-type {\n",
              "        vertical-align: middle;\n",
              "    }\n",
              "\n",
              "    .dataframe tbody tr th {\n",
              "        vertical-align: top;\n",
              "    }\n",
              "\n",
              "    .dataframe thead th {\n",
              "        text-align: right;\n",
              "    }\n",
              "</style>\n",
              "<table border=\"1\" class=\"dataframe\">\n",
              "  <thead>\n",
              "    <tr style=\"text-align: right;\">\n",
              "      <th></th>\n",
              "      <th>District</th>\n",
              "      <th>Participation Rate</th>\n",
              "      <th>zscore</th>\n",
              "    </tr>\n",
              "  </thead>\n",
              "  <tbody>\n",
              "    <tr>\n",
              "      <th>0</th>\n",
              "      <td>Ansonia</td>\n",
              "      <td>0.66</td>\n",
              "      <td>-0.593779</td>\n",
              "    </tr>\n",
              "    <tr>\n",
              "      <th>1</th>\n",
              "      <td>Avon</td>\n",
              "      <td>0.90</td>\n",
              "      <td>1.175649</td>\n",
              "    </tr>\n",
              "    <tr>\n",
              "      <th>2</th>\n",
              "      <td>Berlin</td>\n",
              "      <td>0.81</td>\n",
              "      <td>0.512113</td>\n",
              "    </tr>\n",
              "    <tr>\n",
              "      <th>3</th>\n",
              "      <td>Bethel</td>\n",
              "      <td>0.86</td>\n",
              "      <td>0.880744</td>\n",
              "    </tr>\n",
              "    <tr>\n",
              "      <th>4</th>\n",
              "      <td>Bloomfield</td>\n",
              "      <td>0.81</td>\n",
              "      <td>0.512113</td>\n",
              "    </tr>\n",
              "    <tr>\n",
              "      <th>5</th>\n",
              "      <td>Bolton</td>\n",
              "      <td>0.85</td>\n",
              "      <td>0.807018</td>\n",
              "    </tr>\n",
              "    <tr>\n",
              "      <th>6</th>\n",
              "      <td>Branford</td>\n",
              "      <td>0.77</td>\n",
              "      <td>0.217209</td>\n",
              "    </tr>\n",
              "    <tr>\n",
              "      <th>7</th>\n",
              "      <td>Bridgeport</td>\n",
              "      <td>0.58</td>\n",
              "      <td>-1.183589</td>\n",
              "    </tr>\n",
              "  </tbody>\n",
              "</table>\n",
              "</div>"
            ],
            "text/plain": [
              "     District  Participation Rate    zscore\n",
              "0     Ansonia                0.66 -0.593779\n",
              "1        Avon                0.90  1.175649\n",
              "2      Berlin                0.81  0.512113\n",
              "3      Bethel                0.86  0.880744\n",
              "4  Bloomfield                0.81  0.512113\n",
              "5      Bolton                0.85  0.807018\n",
              "6    Branford                0.77  0.217209\n",
              "7  Bridgeport                0.58 -1.183589"
            ]
          },
          "execution_count": 5,
          "metadata": {},
          "output_type": "execute_result"
        }
      ],
      "source": [
        "zscore_rate = ss.zscore(ct_test['Participation Rate'], ddof=0)\n",
        "ct_test = ct_test.assign(zscore=zscore_rate)\n",
        "ct_test.head(8)"
      ]
    },
    {
      "cell_type": "markdown",
      "metadata": {
        "id": "yFFMMzitVNFO"
      },
      "source": [
        "Now identify the anomalies and plot the results."
      ]
    },
    {
      "cell_type": "code",
      "execution_count": 6,
      "metadata": {
        "id": "tCMIAsiwVN5s"
      },
      "outputs": [],
      "source": [
        "def plot_anomaly(score_data, threshold):\n",
        "    # Mask to plot values above and below threshold in different colors\n",
        "    score_data = score_data.copy().sort_values(ascending=False).values\n",
        "    ranks = np.linspace(1, len(score_data), len(score_data))\n",
        "    mask_outlier = (score_data < threshold)\n",
        "    \n",
        "    \n",
        "    plt.figure(dpi=150)\n",
        "    plt.plot(ranks[~mask_outlier], score_data[~mask_outlier],'o', color='b',label='OK schools')\n",
        "    plt.plot(ranks[mask_outlier], score_data[mask_outlier],'o', color='r', label='anomalies')\n",
        "    plt.axhline(threshold,color='r',label='threshold', alpha=0.5)\n",
        "    plt.legend(loc = 'lower left')\n",
        "    plt.title('Z-score vs. school district', fontweight='bold')\n",
        "    plt.xlabel('Ranked School district')\n",
        "    plt.ylabel('Z-score')\n",
        "    plt.show()"
      ]
    },
    {
      "cell_type": "code",
      "execution_count": 7,
      "metadata": {
        "colab": {
          "base_uri": "https://localhost:8080/",
          "height": 594
        },
        "id": "pDnk0kLNVdGP",
        "outputId": "9499b762-1153-499b-e190-c40f81e0fe67"
      },
      "outputs": [
        {
          "data": {
            "image/png": "[encoded data removed]",
            "text/plain": [
              "<Figure size 900x600 with 1 Axes>"
            ]
          },
          "metadata": {
            "needs_background": "light"
          },
          "output_type": "display_data"
        }
      ],
      "source": [
        "plot_anomaly(ct_test['zscore'], -2)"
      ]
    },
    {
      "cell_type": "markdown",
      "metadata": {
        "id": "CTAac5UiWEHx"
      },
      "source": [
        "Finally, get a list of the schools that are anomalies."
      ]
    },
    {
      "cell_type": "code",
      "execution_count": 8,
      "metadata": {
        "colab": {
          "base_uri": "https://localhost:8080/",
          "height": 174
        },
        "id": "wAoA2a1HWGg6",
        "outputId": "c0b014df-d4c3-4f5e-f089-cba991e9d495"
      },
      "outputs": [
        {
          "data": {
            "text/html": [
              "<div>\n",
              "<style scoped>\n",
              "    .dataframe tbody tr th:only-of-type {\n",
              "        vertical-align: middle;\n",
              "    }\n",
              "\n",
              "    .dataframe tbody tr th {\n",
              "        vertical-align: top;\n",
              "    }\n",
              "\n",
              "    .dataframe thead th {\n",
              "        text-align: right;\n",
              "    }\n",
              "</style>\n",
              "<table border=\"1\" class=\"dataframe\">\n",
              "  <thead>\n",
              "    <tr style=\"text-align: right;\">\n",
              "      <th></th>\n",
              "      <th>District</th>\n",
              "      <th>Participation Rate</th>\n",
              "      <th>zscore</th>\n",
              "    </tr>\n",
              "  </thead>\n",
              "  <tbody>\n",
              "    <tr>\n",
              "      <th>50</th>\n",
              "      <td>New Britain</td>\n",
              "      <td>0.40</td>\n",
              "      <td>-2.510660</td>\n",
              "    </tr>\n",
              "    <tr>\n",
              "      <th>99</th>\n",
              "      <td>Windham</td>\n",
              "      <td>0.37</td>\n",
              "      <td>-2.731839</td>\n",
              "    </tr>\n",
              "    <tr>\n",
              "      <th>121</th>\n",
              "      <td>Eastern Connecticut Regional Educational Servi...</td>\n",
              "      <td>0.39</td>\n",
              "      <td>-2.584386</td>\n",
              "    </tr>\n",
              "    <tr>\n",
              "      <th>125</th>\n",
              "      <td>Stamford Academy</td>\n",
              "      <td>0.28</td>\n",
              "      <td>-3.395374</td>\n",
              "    </tr>\n",
              "  </tbody>\n",
              "</table>\n",
              "</div>"
            ],
            "text/plain": [
              "                                              District  Participation Rate  \\\n",
              "50                                         New Britain                0.40   \n",
              "99                                             Windham                0.37   \n",
              "121  Eastern Connecticut Regional Educational Servi...                0.39   \n",
              "125                                   Stamford Academy                0.28   \n",
              "\n",
              "       zscore  \n",
              "50  -2.510660  \n",
              "99  -2.731839  \n",
              "121 -2.584386  \n",
              "125 -3.395374  "
            ]
          },
          "execution_count": 8,
          "metadata": {},
          "output_type": "execute_result"
        }
      ],
      "source": [
        "zscore_anomalies = ct_test[(ct_test['zscore'] < -2)]\n",
        "zscore_anomalies"
      ]
    },
    {
      "cell_type": "markdown",
      "metadata": {
        "id": "uKNPeT_BWM2V"
      },
      "source": [
        "We have found our anomalies, but we still have one thing to do: check our assumption that the data can be modeled approximately as a normal distribution. If this is the case, then we have completed our test. If it isn't, then we cannot connect the z-score with probabilities as we did earlier in this notebook.\n",
        "First, let's bin the data and see what it looks like as a histogram."
      ]
    },
    {
      "cell_type": "code",
      "execution_count": 34,
      "metadata": {
        "colab": {
          "base_uri": "https://localhost:8080/",
          "height": 265
        },
        "id": "XP0PQGtjWWWb",
        "outputId": "7a147e62-9d57-41ed-92d7-71308fb1f409"
      },
      "outputs": [
        {
          "data": {
            "image/png": "[encoded data removed]",
            "text/plain": [
              "<Figure size 432x288 with 1 Axes>"
            ]
          },
          "metadata": {
            "needs_background": "light"
          },
          "output_type": "display_data"
        }
      ],
      "source": [
        "nbins= 20\n",
        "n_hist, bins_hist, patches_hist = plt.hist(ct_test['Participation Rate'], nbins, density=False,\n",
        "                           cumulative=False, linewidth=1.0, label='data')"
      ]
    },
    {
      "cell_type": "markdown",
      "metadata": {
        "id": "JO2qMCd6XQAu"
      },
      "source": [
        "This histogram has two maxima and is skewed left, so it is not likely to be normal."
      ]
    },
    {
      "cell_type": "markdown",
      "metadata": {
        "id": "r15bZYlZXSen"
      },
      "source": [
        "We can also compare the cumulative distribution function for our data with the CDF of a normal distribution with the same mean and standard deviation of our data."
      ]
    },
    {
      "cell_type": "code",
      "execution_count": 35,
      "metadata": {
        "colab": {
          "base_uri": "https://localhost:8080/",
          "height": 279
        },
        "id": "TW80G-iSXXU8",
        "outputId": "0da68a8f-d7d0-4f5e-9e83-1d4c85f55b9a"
      },
      "outputs": [
        {
          "data": {
            "image/png": "[encoded data removed]",
            "text/plain": [
              "<Figure size 432x288 with 1 Axes>"
            ]
          },
          "metadata": {
            "needs_background": "light"
          },
          "output_type": "display_data"
        }
      ],
      "source": [
        "num_bins = 130\n",
        "normal_dist = [random.gauss(mean_rate, stdev_rate) for _ in range(500)]\n",
        "n, bins, patches = plt.hist(ct_test['Participation Rate'], num_bins, density=True, histtype='step',\n",
        "                           cumulative=True, linewidth=1.0, label='data')\n",
        "plt.hist(normal_dist, num_bins, density=True, histtype='step',\n",
        "                           cumulative=True, linewidth=1.0, label='normal distribution')\n",
        "plt.grid(True)\n",
        "plt.legend(loc='upper left')\n",
        "axes = plt.gca()\n",
        "axes.set_xlim([0.2,1.0])\n",
        "plt.xlabel('Participation Rate')\n",
        "plt.ylabel('Cumulative probability')\n",
        "plt.show()"
      ]
    },
    {
      "cell_type": "code",
      "execution_count": 36,
      "metadata": {
        "id": "JJREHPMtf2zP"
      },
      "outputs": [],
      "source": [
        "def modified_zscore(data, consistency_correction=1.4826):\n",
        "    \"\"\"\n",
        "    Returns the modified z score and Median Absolute Deviation (MAD) from the scores in data.\n",
        "    The consistency_correction factor converts the MAD to the standard deviation for a given\n",
        "    distribution. The default value (1.4826) is the conversion factor if the underlying data\n",
        "    is normally distributed\n",
        "    \"\"\"\n",
        "    median = np.median(data)\n",
        "    \n",
        "    deviation_from_med = np.array(data) - median\n",
        "\n",
        "    mad = np.median(np.abs(deviation_from_med))\n",
        "    mod_zscore = deviation_from_med/(consistency_correction*mad)\n",
        "    return mod_zscore, mad"
      ]
    },
    {
      "cell_type": "code",
      "execution_count": 37,
      "metadata": {
        "id": "tsb0iNMwf3oc"
      },
      "outputs": [],
      "source": [
        "mad_zscore, mad_participation = modified_zscore(ct_test['Participation Rate'])\n",
        "z_sc_participation = ct_test.assign(zscore_median=mad_zscore)"
      ]
    },
    {
      "cell_type": "code",
      "execution_count": 38,
      "metadata": {
        "colab": {
          "base_uri": "https://localhost:8080/",
          "height": 206
        },
        "id": "vcPfHirChOQw",
        "outputId": "c2adee45-40f7-4c7d-fd72-167d0afb7d2c"
      },
      "outputs": [
        {
          "data": {
            "text/html": [
              "<div>\n",
              "<style scoped>\n",
              "    .dataframe tbody tr th:only-of-type {\n",
              "        vertical-align: middle;\n",
              "    }\n",
              "\n",
              "    .dataframe tbody tr th {\n",
              "        vertical-align: top;\n",
              "    }\n",
              "\n",
              "    .dataframe thead th {\n",
              "        text-align: right;\n",
              "    }\n",
              "</style>\n",
              "<table border=\"1\" class=\"dataframe\">\n",
              "  <thead>\n",
              "    <tr style=\"text-align: right;\">\n",
              "      <th></th>\n",
              "      <th>District</th>\n",
              "      <th>Participation Rate</th>\n",
              "      <th>zscore</th>\n",
              "      <th>zscore_median</th>\n",
              "    </tr>\n",
              "  </thead>\n",
              "  <tbody>\n",
              "    <tr>\n",
              "      <th>50</th>\n",
              "      <td>New Britain</td>\n",
              "      <td>0.40</td>\n",
              "      <td>-2.510660</td>\n",
              "      <td>-2.585548</td>\n",
              "    </tr>\n",
              "    <tr>\n",
              "      <th>55</th>\n",
              "      <td>New London</td>\n",
              "      <td>0.47</td>\n",
              "      <td>-1.994577</td>\n",
              "      <td>-2.060944</td>\n",
              "    </tr>\n",
              "    <tr>\n",
              "      <th>99</th>\n",
              "      <td>Windham</td>\n",
              "      <td>0.37</td>\n",
              "      <td>-2.731839</td>\n",
              "      <td>-2.810378</td>\n",
              "    </tr>\n",
              "    <tr>\n",
              "      <th>121</th>\n",
              "      <td>Eastern Connecticut Regional Educational Servi...</td>\n",
              "      <td>0.39</td>\n",
              "      <td>-2.584386</td>\n",
              "      <td>-2.660491</td>\n",
              "    </tr>\n",
              "    <tr>\n",
              "      <th>125</th>\n",
              "      <td>Stamford Academy</td>\n",
              "      <td>0.28</td>\n",
              "      <td>-3.395374</td>\n",
              "      <td>-3.484869</td>\n",
              "    </tr>\n",
              "  </tbody>\n",
              "</table>\n",
              "</div>"
            ],
            "text/plain": [
              "                                              District  Participation Rate  \\\n",
              "50                                         New Britain                0.40   \n",
              "55                                          New London                0.47   \n",
              "99                                             Windham                0.37   \n",
              "121  Eastern Connecticut Regional Educational Servi...                0.39   \n",
              "125                                   Stamford Academy                0.28   \n",
              "\n",
              "       zscore  zscore_median  \n",
              "50  -2.510660      -2.585548  \n",
              "55  -1.994577      -2.060944  \n",
              "99  -2.731839      -2.810378  \n",
              "121 -2.584386      -2.660491  \n",
              "125 -3.395374      -3.484869  "
            ]
          },
          "execution_count": 38,
          "metadata": {},
          "output_type": "execute_result"
        }
      ],
      "source": [
        "mod_zscore_anomalies = z_sc_participation[(z_sc_participation['zscore_median'] < -2)]\n",
        "mod_zscore_anomalies"
      ]
    },
    {
      "cell_type": "code",
      "execution_count": 39,
      "metadata": {
        "colab": {
          "base_uri": "https://localhost:8080/",
          "height": 594
        },
        "id": "Af6bHQnwVfua",
        "outputId": "fb3bd89f-b87d-4a94-9f83-041fde66e174"
      },
      "outputs": [
        {
          "data": {
            "image/png": "[encoded data removed]",
            "text/plain": [
              "<Figure size 900x600 with 1 Axes>"
            ]
          },
          "metadata": {
            "needs_background": "light"
          },
          "output_type": "display_data"
        }
      ],
      "source": [
        "plot_anomaly(z_sc_participation['zscore_median'], -2)"
      ]
    },
    {
      "cell_type": "code",
      "execution_count": 40,
      "metadata": {
        "colab": {
          "base_uri": "https://localhost:8080/"
        },
        "id": "DiDo-lf7KsNX",
        "outputId": "cea5a904-8308-4f4c-c77a-e097f20ba7e4"
      },
      "outputs": [
        {
          "data": {
            "text/plain": [
              "count    130.000000\n",
              "mean      -0.033436\n",
              "std        1.020443\n",
              "min       -3.484869\n",
              "25%       -0.618283\n",
              "50%        0.000000\n",
              "75%        0.711962\n",
              "max        1.911057\n",
              "Name: zscore_median, dtype: float64"
            ]
          },
          "execution_count": 40,
          "metadata": {},
          "output_type": "execute_result"
        }
      ],
      "source": [
        "z_sc_participation['zscore_median'].describe()"
      ]
    },
    {
      "cell_type": "code",
      "execution_count": 41,
      "metadata": {
        "colab": {
          "base_uri": "https://localhost:8080/"
        },
        "id": "OvpIe181K2Ml",
        "outputId": "8de76662-c410-4959-eebd-cdb97c3996d2"
      },
      "outputs": [
        {
          "data": {
            "text/plain": [
              "count    1.300000e+02\n",
              "mean    -4.208172e-16\n",
              "std      1.003868e+00\n",
              "min     -3.395374e+00\n",
              "25%     -5.753478e-01\n",
              "50%      3.289322e-02\n",
              "75%      7.332920e-01\n",
              "max      1.912911e+00\n",
              "Name: zscore, dtype: float64"
            ]
          },
          "execution_count": 41,
          "metadata": {},
          "output_type": "execute_result"
        }
      ],
      "source": [
        "z_sc_participation['zscore'].describe()"
      ]
    },
    {
      "cell_type": "markdown",
      "metadata": {
        "id": "dg9WHXB5ZdhF"
      },
      "source": [
        "**Question 2**"
      ]
    },
    {
      "cell_type": "code",
      "execution_count": 42,
      "metadata": {
        "colab": {
          "base_uri": "https://localhost:8080/",
          "height": 700
        },
        "id": "H2soChGJZkEJ",
        "outputId": "db09998c-ada7-4dbc-9f28-676d6ac7c511"
      },
      "outputs": [
        {
          "data": {
            "text/html": [
              "<div>\n",
              "<style scoped>\n",
              "    .dataframe tbody tr th:only-of-type {\n",
              "        vertical-align: middle;\n",
              "    }\n",
              "\n",
              "    .dataframe tbody tr th {\n",
              "        vertical-align: top;\n",
              "    }\n",
              "\n",
              "    .dataframe thead th {\n",
              "        text-align: right;\n",
              "    }\n",
              "</style>\n",
              "<table border=\"1\" class=\"dataframe\">\n",
              "  <thead>\n",
              "    <tr style=\"text-align: right;\">\n",
              "      <th></th>\n",
              "      <th>Year</th>\n",
              "      <th>Player(s)</th>\n",
              "      <th>Goals</th>\n",
              "    </tr>\n",
              "  </thead>\n",
              "  <tbody>\n",
              "    <tr>\n",
              "      <th>0</th>\n",
              "      <td>1930</td>\n",
              "      <td>Guillermo Stábile</td>\n",
              "      <td>8</td>\n",
              "    </tr>\n",
              "    <tr>\n",
              "      <th>1</th>\n",
              "      <td>1934</td>\n",
              "      <td>Oldřich Nejedlý</td>\n",
              "      <td>5</td>\n",
              "    </tr>\n",
              "    <tr>\n",
              "      <th>2</th>\n",
              "      <td>1938</td>\n",
              "      <td>Leônidas</td>\n",
              "      <td>7</td>\n",
              "    </tr>\n",
              "    <tr>\n",
              "      <th>3</th>\n",
              "      <td>1950</td>\n",
              "      <td>Ademir</td>\n",
              "      <td>8</td>\n",
              "    </tr>\n",
              "    <tr>\n",
              "      <th>4</th>\n",
              "      <td>1954</td>\n",
              "      <td>Sándor Kocsis</td>\n",
              "      <td>11</td>\n",
              "    </tr>\n",
              "    <tr>\n",
              "      <th>5</th>\n",
              "      <td>1958</td>\n",
              "      <td>Just Fontaine</td>\n",
              "      <td>13</td>\n",
              "    </tr>\n",
              "    <tr>\n",
              "      <th>6</th>\n",
              "      <td>1962</td>\n",
              "      <td>Garrincha, Vavá, Leonel Sánchez, Flórián Alber...</td>\n",
              "      <td>4</td>\n",
              "    </tr>\n",
              "    <tr>\n",
              "      <th>7</th>\n",
              "      <td>1966</td>\n",
              "      <td>Eusébio</td>\n",
              "      <td>9</td>\n",
              "    </tr>\n",
              "    <tr>\n",
              "      <th>8</th>\n",
              "      <td>1970</td>\n",
              "      <td>Gerd Müller</td>\n",
              "      <td>10</td>\n",
              "    </tr>\n",
              "    <tr>\n",
              "      <th>9</th>\n",
              "      <td>1974</td>\n",
              "      <td>Grzegorz Lato</td>\n",
              "      <td>7</td>\n",
              "    </tr>\n",
              "    <tr>\n",
              "      <th>10</th>\n",
              "      <td>1978</td>\n",
              "      <td>Mario Kempes</td>\n",
              "      <td>6</td>\n",
              "    </tr>\n",
              "    <tr>\n",
              "      <th>11</th>\n",
              "      <td>1982</td>\n",
              "      <td>Paolo Rossi</td>\n",
              "      <td>6</td>\n",
              "    </tr>\n",
              "    <tr>\n",
              "      <th>12</th>\n",
              "      <td>1986</td>\n",
              "      <td>Gary Lineker</td>\n",
              "      <td>6</td>\n",
              "    </tr>\n",
              "    <tr>\n",
              "      <th>13</th>\n",
              "      <td>1990</td>\n",
              "      <td>Salvatore Schillaci</td>\n",
              "      <td>6</td>\n",
              "    </tr>\n",
              "    <tr>\n",
              "      <th>14</th>\n",
              "      <td>1994</td>\n",
              "      <td>Hristo Stoichkov, Oleg Salenko</td>\n",
              "      <td>6</td>\n",
              "    </tr>\n",
              "    <tr>\n",
              "      <th>15</th>\n",
              "      <td>1998</td>\n",
              "      <td>Davor Šuker</td>\n",
              "      <td>6</td>\n",
              "    </tr>\n",
              "    <tr>\n",
              "      <th>16</th>\n",
              "      <td>2002</td>\n",
              "      <td>Ronaldo</td>\n",
              "      <td>8</td>\n",
              "    </tr>\n",
              "    <tr>\n",
              "      <th>17</th>\n",
              "      <td>2006</td>\n",
              "      <td>Miroslav Klose</td>\n",
              "      <td>5</td>\n",
              "    </tr>\n",
              "    <tr>\n",
              "      <th>18</th>\n",
              "      <td>2010</td>\n",
              "      <td>Thomas Müller, David Villa, Wesley Sneijder, D...</td>\n",
              "      <td>5</td>\n",
              "    </tr>\n",
              "    <tr>\n",
              "      <th>19</th>\n",
              "      <td>2014</td>\n",
              "      <td>James Rodríguez</td>\n",
              "      <td>6</td>\n",
              "    </tr>\n",
              "    <tr>\n",
              "      <th>20</th>\n",
              "      <td>2018</td>\n",
              "      <td>Harry Kane</td>\n",
              "      <td>6</td>\n",
              "    </tr>\n",
              "  </tbody>\n",
              "</table>\n",
              "</div>"
            ],
            "text/plain": [
              "    Year                                          Player(s)  Goals\n",
              "0   1930                                  Guillermo Stábile      8\n",
              "1   1934                                    Oldřich Nejedlý      5\n",
              "2   1938                                           Leônidas      7\n",
              "3   1950                                             Ademir      8\n",
              "4   1954                                      Sándor Kocsis     11\n",
              "5   1958                                      Just Fontaine     13\n",
              "6   1962  Garrincha, Vavá, Leonel Sánchez, Flórián Alber...      4\n",
              "7   1966                                            Eusébio      9\n",
              "8   1970                                        Gerd Müller     10\n",
              "9   1974                                      Grzegorz Lato      7\n",
              "10  1978                                       Mario Kempes      6\n",
              "11  1982                                        Paolo Rossi      6\n",
              "12  1986                                       Gary Lineker      6\n",
              "13  1990                                Salvatore Schillaci      6\n",
              "14  1994                     Hristo Stoichkov, Oleg Salenko      6\n",
              "15  1998                                        Davor Šuker      6\n",
              "16  2002                                            Ronaldo      8\n",
              "17  2006                                     Miroslav Klose      5\n",
              "18  2010  Thomas Müller, David Villa, Wesley Sneijder, D...      5\n",
              "19  2014                                    James Rodríguez      6\n",
              "20  2018                                         Harry Kane      6"
            ]
          },
          "execution_count": 42,
          "metadata": {},
          "output_type": "execute_result"
        }
      ],
      "source": [
        "# First row is a header row, but the header names are cumbersome. \n",
        "# Skip first row and manually label\n",
        "# Encoding ensures that accents in sames are rendered properly \n",
        "top_goals = pd.read_csv('../Dataset/world_cup_top_goal_scorers.csv', \n",
        "                        encoding='utf-8',  \n",
        "                        names=['Year', 'Player(s)', 'Goals'], skiprows=1)                                                                                \n",
        "top_goals"
      ]
    },
    {
      "cell_type": "markdown",
      "metadata": {
        "id": "WY3KU21uZzqt"
      },
      "source": [
        "Once again will start by using the z-score to identify anomalies. As we are interested in the superstars, this time we will have an upper threshold. We choose  z=+2\n",
        " . Above this z-score, any player will be labeled as an anomaly.\n",
        "As before, we calculate the mean and standard deviation."
      ]
    },
    {
      "cell_type": "code",
      "execution_count": 43,
      "metadata": {
        "colab": {
          "base_uri": "https://localhost:8080/"
        },
        "id": "P9TI3LDjZ3V6",
        "outputId": "5da738db-57c6-4ef3-ce3e-572576384808"
      },
      "outputs": [
        {
          "name": "stdout",
          "output_type": "stream",
          "text": [
            "Mean number of goals is 7.05\n",
            "Standard deviation is 2.15\n"
          ]
        }
      ],
      "source": [
        "mean_goals = top_goals['Goals'].mean()\n",
        "stdev_goals = top_goals['Goals'].std(ddof=0)\n",
        "print('Mean number of goals is {:.2f}'.format(mean_goals))\n",
        "print('Standard deviation is {:.2f}'.format(stdev_goals))"
      ]
    },
    {
      "cell_type": "markdown",
      "metadata": {
        "id": "CDko0ZCYZ7Pi"
      },
      "source": [
        "Calculate the z-score for each player and add the result to the dataframe."
      ]
    },
    {
      "cell_type": "code",
      "execution_count": 44,
      "metadata": {
        "colab": {
          "base_uri": "https://localhost:8080/",
          "height": 700
        },
        "id": "yUQc1WwpZ98G",
        "outputId": "cff85f55-9ab9-47a4-fd16-8c7cc71bc453"
      },
      "outputs": [
        {
          "data": {
            "text/html": [
              "<div>\n",
              "<style scoped>\n",
              "    .dataframe tbody tr th:only-of-type {\n",
              "        vertical-align: middle;\n",
              "    }\n",
              "\n",
              "    .dataframe tbody tr th {\n",
              "        vertical-align: top;\n",
              "    }\n",
              "\n",
              "    .dataframe thead th {\n",
              "        text-align: right;\n",
              "    }\n",
              "</style>\n",
              "<table border=\"1\" class=\"dataframe\">\n",
              "  <thead>\n",
              "    <tr style=\"text-align: right;\">\n",
              "      <th></th>\n",
              "      <th>Year</th>\n",
              "      <th>Player(s)</th>\n",
              "      <th>Goals</th>\n",
              "      <th>zscore</th>\n",
              "    </tr>\n",
              "  </thead>\n",
              "  <tbody>\n",
              "    <tr>\n",
              "      <th>0</th>\n",
              "      <td>1930</td>\n",
              "      <td>Guillermo Stábile</td>\n",
              "      <td>8</td>\n",
              "      <td>0.443242</td>\n",
              "    </tr>\n",
              "    <tr>\n",
              "      <th>1</th>\n",
              "      <td>1934</td>\n",
              "      <td>Oldřich Nejedlý</td>\n",
              "      <td>5</td>\n",
              "      <td>-0.952971</td>\n",
              "    </tr>\n",
              "    <tr>\n",
              "      <th>2</th>\n",
              "      <td>1938</td>\n",
              "      <td>Leônidas</td>\n",
              "      <td>7</td>\n",
              "      <td>-0.022162</td>\n",
              "    </tr>\n",
              "    <tr>\n",
              "      <th>3</th>\n",
              "      <td>1950</td>\n",
              "      <td>Ademir</td>\n",
              "      <td>8</td>\n",
              "      <td>0.443242</td>\n",
              "    </tr>\n",
              "    <tr>\n",
              "      <th>4</th>\n",
              "      <td>1954</td>\n",
              "      <td>Sándor Kocsis</td>\n",
              "      <td>11</td>\n",
              "      <td>1.839455</td>\n",
              "    </tr>\n",
              "    <tr>\n",
              "      <th>5</th>\n",
              "      <td>1958</td>\n",
              "      <td>Just Fontaine</td>\n",
              "      <td>13</td>\n",
              "      <td>2.770264</td>\n",
              "    </tr>\n",
              "    <tr>\n",
              "      <th>6</th>\n",
              "      <td>1962</td>\n",
              "      <td>Garrincha, Vavá, Leonel Sánchez, Flórián Alber...</td>\n",
              "      <td>4</td>\n",
              "      <td>-1.418375</td>\n",
              "    </tr>\n",
              "    <tr>\n",
              "      <th>7</th>\n",
              "      <td>1966</td>\n",
              "      <td>Eusébio</td>\n",
              "      <td>9</td>\n",
              "      <td>0.908647</td>\n",
              "    </tr>\n",
              "    <tr>\n",
              "      <th>8</th>\n",
              "      <td>1970</td>\n",
              "      <td>Gerd Müller</td>\n",
              "      <td>10</td>\n",
              "      <td>1.374051</td>\n",
              "    </tr>\n",
              "    <tr>\n",
              "      <th>9</th>\n",
              "      <td>1974</td>\n",
              "      <td>Grzegorz Lato</td>\n",
              "      <td>7</td>\n",
              "      <td>-0.022162</td>\n",
              "    </tr>\n",
              "    <tr>\n",
              "      <th>10</th>\n",
              "      <td>1978</td>\n",
              "      <td>Mario Kempes</td>\n",
              "      <td>6</td>\n",
              "      <td>-0.487566</td>\n",
              "    </tr>\n",
              "    <tr>\n",
              "      <th>11</th>\n",
              "      <td>1982</td>\n",
              "      <td>Paolo Rossi</td>\n",
              "      <td>6</td>\n",
              "      <td>-0.487566</td>\n",
              "    </tr>\n",
              "    <tr>\n",
              "      <th>12</th>\n",
              "      <td>1986</td>\n",
              "      <td>Gary Lineker</td>\n",
              "      <td>6</td>\n",
              "      <td>-0.487566</td>\n",
              "    </tr>\n",
              "    <tr>\n",
              "      <th>13</th>\n",
              "      <td>1990</td>\n",
              "      <td>Salvatore Schillaci</td>\n",
              "      <td>6</td>\n",
              "      <td>-0.487566</td>\n",
              "    </tr>\n",
              "    <tr>\n",
              "      <th>14</th>\n",
              "      <td>1994</td>\n",
              "      <td>Hristo Stoichkov, Oleg Salenko</td>\n",
              "      <td>6</td>\n",
              "      <td>-0.487566</td>\n",
              "    </tr>\n",
              "    <tr>\n",
              "      <th>15</th>\n",
              "      <td>1998</td>\n",
              "      <td>Davor Šuker</td>\n",
              "      <td>6</td>\n",
              "      <td>-0.487566</td>\n",
              "    </tr>\n",
              "    <tr>\n",
              "      <th>16</th>\n",
              "      <td>2002</td>\n",
              "      <td>Ronaldo</td>\n",
              "      <td>8</td>\n",
              "      <td>0.443242</td>\n",
              "    </tr>\n",
              "    <tr>\n",
              "      <th>17</th>\n",
              "      <td>2006</td>\n",
              "      <td>Miroslav Klose</td>\n",
              "      <td>5</td>\n",
              "      <td>-0.952971</td>\n",
              "    </tr>\n",
              "    <tr>\n",
              "      <th>18</th>\n",
              "      <td>2010</td>\n",
              "      <td>Thomas Müller, David Villa, Wesley Sneijder, D...</td>\n",
              "      <td>5</td>\n",
              "      <td>-0.952971</td>\n",
              "    </tr>\n",
              "    <tr>\n",
              "      <th>19</th>\n",
              "      <td>2014</td>\n",
              "      <td>James Rodríguez</td>\n",
              "      <td>6</td>\n",
              "      <td>-0.487566</td>\n",
              "    </tr>\n",
              "    <tr>\n",
              "      <th>20</th>\n",
              "      <td>2018</td>\n",
              "      <td>Harry Kane</td>\n",
              "      <td>6</td>\n",
              "      <td>-0.487566</td>\n",
              "    </tr>\n",
              "  </tbody>\n",
              "</table>\n",
              "</div>"
            ],
            "text/plain": [
              "    Year                                          Player(s)  Goals    zscore\n",
              "0   1930                                  Guillermo Stábile      8  0.443242\n",
              "1   1934                                    Oldřich Nejedlý      5 -0.952971\n",
              "2   1938                                           Leônidas      7 -0.022162\n",
              "3   1950                                             Ademir      8  0.443242\n",
              "4   1954                                      Sándor Kocsis     11  1.839455\n",
              "5   1958                                      Just Fontaine     13  2.770264\n",
              "6   1962  Garrincha, Vavá, Leonel Sánchez, Flórián Alber...      4 -1.418375\n",
              "7   1966                                            Eusébio      9  0.908647\n",
              "8   1970                                        Gerd Müller     10  1.374051\n",
              "9   1974                                      Grzegorz Lato      7 -0.022162\n",
              "10  1978                                       Mario Kempes      6 -0.487566\n",
              "11  1982                                        Paolo Rossi      6 -0.487566\n",
              "12  1986                                       Gary Lineker      6 -0.487566\n",
              "13  1990                                Salvatore Schillaci      6 -0.487566\n",
              "14  1994                     Hristo Stoichkov, Oleg Salenko      6 -0.487566\n",
              "15  1998                                        Davor Šuker      6 -0.487566\n",
              "16  2002                                            Ronaldo      8  0.443242\n",
              "17  2006                                     Miroslav Klose      5 -0.952971\n",
              "18  2010  Thomas Müller, David Villa, Wesley Sneijder, D...      5 -0.952971\n",
              "19  2014                                    James Rodríguez      6 -0.487566\n",
              "20  2018                                         Harry Kane      6 -0.487566"
            ]
          },
          "execution_count": 44,
          "metadata": {},
          "output_type": "execute_result"
        }
      ],
      "source": [
        "zscore_goals = ss.zscore(top_goals['Goals'], ddof=0)\n",
        "top_goals = top_goals.assign(zscore=zscore_goals)\n",
        "top_goals.head(21)"
      ]
    },
    {
      "cell_type": "markdown",
      "metadata": {
        "id": "Oex5wWbKaEx4"
      },
      "source": [
        "Now, modify the previous plotting function to display the results."
      ]
    },
    {
      "cell_type": "code",
      "execution_count": 45,
      "metadata": {
        "id": "-sa0MJcRaHpo"
      },
      "outputs": [],
      "source": [
        "def plot_anomaly_goals(score_data, threshold):\n",
        "    score_data = score_data.copy().sort_values(ascending=False).values\n",
        "    ranks = np.linspace(1, len(score_data), len(score_data))\n",
        "    mask_outlier = (score_data > threshold)\n",
        "    plt.figure(dpi=150)\n",
        "    plt.plot(ranks[mask_outlier], score_data[mask_outlier], 'o', color='r', label='anomalies')\n",
        "    plt.plot(ranks[~mask_outlier], score_data[~mask_outlier], 'o', color='b', label='typical player')\n",
        "    plt.axhline(threshold,color='r', label='threshold', alpha=0.5)\n",
        "    plt.legend(loc='upper right')\n",
        "    plt.title('Z-score vs. player', fontweight='bold')\n",
        "    plt.xticks(np.arange(0, 21, step=2.0))\n",
        "    plt.xlabel('Player Rank')\n",
        "    plt.ylabel('Z-score')\n",
        "    plt.show()"
      ]
    },
    {
      "cell_type": "code",
      "execution_count": 46,
      "metadata": {
        "colab": {
          "base_uri": "https://localhost:8080/",
          "height": 594
        },
        "id": "i58-WNU1aNGU",
        "outputId": "db35fd51-b081-4bb4-c179-44e569e7732a"
      },
      "outputs": [
        {
          "data": {
            "image/png": "[encoded data removed]",
            "text/plain": [
              "<Figure size 900x600 with 1 Axes>"
            ]
          },
          "metadata": {
            "needs_background": "light"
          },
          "output_type": "display_data"
        }
      ],
      "source": [
        "plot_anomaly_goals(top_goals['zscore'], 2)"
      ]
    },
    {
      "cell_type": "markdown",
      "metadata": {
        "id": "DoVRMSxWaSka"
      },
      "source": [
        "Only one player is picked out: Just Fontaine."
      ]
    },
    {
      "cell_type": "code",
      "execution_count": 47,
      "metadata": {
        "colab": {
          "base_uri": "https://localhost:8080/",
          "height": 80
        },
        "id": "dq3YD55SaVO6",
        "outputId": "dbe8c548-e89f-432a-91ce-6dce60f6ad0b"
      },
      "outputs": [
        {
          "data": {
            "text/html": [
              "<div>\n",
              "<style scoped>\n",
              "    .dataframe tbody tr th:only-of-type {\n",
              "        vertical-align: middle;\n",
              "    }\n",
              "\n",
              "    .dataframe tbody tr th {\n",
              "        vertical-align: top;\n",
              "    }\n",
              "\n",
              "    .dataframe thead th {\n",
              "        text-align: right;\n",
              "    }\n",
              "</style>\n",
              "<table border=\"1\" class=\"dataframe\">\n",
              "  <thead>\n",
              "    <tr style=\"text-align: right;\">\n",
              "      <th></th>\n",
              "      <th>Year</th>\n",
              "      <th>Player(s)</th>\n",
              "      <th>Goals</th>\n",
              "      <th>zscore</th>\n",
              "    </tr>\n",
              "  </thead>\n",
              "  <tbody>\n",
              "    <tr>\n",
              "      <th>5</th>\n",
              "      <td>1958</td>\n",
              "      <td>Just Fontaine</td>\n",
              "      <td>13</td>\n",
              "      <td>2.770264</td>\n",
              "    </tr>\n",
              "  </tbody>\n",
              "</table>\n",
              "</div>"
            ],
            "text/plain": [
              "   Year      Player(s)  Goals    zscore\n",
              "5  1958  Just Fontaine     13  2.770264"
            ]
          },
          "execution_count": 47,
          "metadata": {},
          "output_type": "execute_result"
        }
      ],
      "source": [
        "zscore_anomalies_players = top_goals[(top_goals['zscore'] > 2)]\n",
        "zscore_anomalies_players"
      ]
    },
    {
      "cell_type": "markdown",
      "metadata": {
        "id": "tFhPWmdDagg_"
      },
      "source": [
        "Fontaine was indeed an amazing player, but clearly our analysis is flawed. By looking at the plot, we see that in 12 out of 21 competitions, the top goalscorer(s) scored less than the mean number of goals (7.05).\n",
        "\n",
        "Question: What's going on?\n",
        "\n",
        "Answer: the mean and standard deviation are themselves susceptible to the presence of anomalies. With his 13 goals, the amazing Fontaine is raising the mean so much that most players fall below it. As a result, he becomes the only anomaly.\n",
        "Let's repeat this analysis with the modified z-score and see what happens."
      ]
    },
    {
      "cell_type": "code",
      "execution_count": 48,
      "metadata": {
        "colab": {
          "base_uri": "https://localhost:8080/"
        },
        "id": "zyGouWynayp1",
        "outputId": "dbac492d-b878-427c-87e0-dd8f24adec8a"
      },
      "outputs": [
        {
          "data": {
            "text/plain": [
              "6.0"
            ]
          },
          "execution_count": 48,
          "metadata": {},
          "output_type": "execute_result"
        }
      ],
      "source": [
        "median_goals = np.median(top_goals['Goals'])\n",
        "median_goals"
      ]
    },
    {
      "cell_type": "markdown",
      "metadata": {
        "id": "On6rKWGLa_zQ"
      },
      "source": [
        "As before, compute the modified z-score for all players then plot and list the results. Note that the threshold remains the same at  y=+2\n",
        " ."
      ]
    },
    {
      "cell_type": "code",
      "execution_count": 49,
      "metadata": {
        "id": "S4MNvo11bCZW"
      },
      "outputs": [],
      "source": [
        "mod_zscore_goals, mad_goals = modified_zscore(top_goals['Goals'])\n",
        "top_goals = top_goals.assign(mod_zscore=mod_zscore_goals)"
      ]
    },
    {
      "cell_type": "code",
      "execution_count": 50,
      "metadata": {
        "id": "sfb1Kx0ebGxF"
      },
      "outputs": [],
      "source": [
        "def plot_anomaly_goals_2(score_data, threshold):\n",
        "    score_data = score_data.copy().sort_values(ascending=False).values\n",
        "    ranks = np.linspace(1, len(score_data), len(score_data))\n",
        "    mask_outliers = (score_data > threshold)\n",
        "    \n",
        "    plt.figure(dpi=150)\n",
        "    plt.plot(ranks[mask_outliers], score_data[mask_outliers],'o', color='r',label='anomalies')\n",
        "    plt.plot(ranks[~mask_outliers], score_data[~mask_outliers],'o', color='b', label='typical player')\n",
        "    plt.axhline(threshold,color='r',label='threshold', alpha=0.5)\n",
        "    plt.legend(loc = 'upper right')\n",
        "    plt.title('Modified z-score vs. player', fontweight='bold')\n",
        "    plt.xticks(np.arange(0, 21, step=2.0))\n",
        "    plt.xlabel('Player')\n",
        "    plt.ylabel('Modified z-score')\n",
        "    plt.show()"
      ]
    },
    {
      "cell_type": "code",
      "execution_count": 51,
      "metadata": {
        "colab": {
          "base_uri": "https://localhost:8080/",
          "height": 594
        },
        "id": "u5ZHjlqgbKYf",
        "outputId": "6170b0f8-989e-4f29-a0f3-5de90c379ffc"
      },
      "outputs": [
        {
          "data": {
            "image/png": "[encoded data removed]",
            "text/plain": [
              "<Figure size 900x600 with 1 Axes>"
            ]
          },
          "metadata": {
            "needs_background": "light"
          },
          "output_type": "display_data"
        }
      ],
      "source": [
        "plot_anomaly_goals_2(top_goals['mod_zscore'], 2)"
      ]
    },
    {
      "cell_type": "code",
      "execution_count": 52,
      "metadata": {
        "colab": {
          "base_uri": "https://localhost:8080/",
          "height": 173
        },
        "id": "7VlxVT7hbON-",
        "outputId": "3d700594-f671-410c-c091-684be963a9de"
      },
      "outputs": [
        {
          "data": {
            "text/html": [
              "<div>\n",
              "<style scoped>\n",
              "    .dataframe tbody tr th:only-of-type {\n",
              "        vertical-align: middle;\n",
              "    }\n",
              "\n",
              "    .dataframe tbody tr th {\n",
              "        vertical-align: top;\n",
              "    }\n",
              "\n",
              "    .dataframe thead th {\n",
              "        text-align: right;\n",
              "    }\n",
              "</style>\n",
              "<table border=\"1\" class=\"dataframe\">\n",
              "  <thead>\n",
              "    <tr style=\"text-align: right;\">\n",
              "      <th></th>\n",
              "      <th>Year</th>\n",
              "      <th>Player(s)</th>\n",
              "      <th>Goals</th>\n",
              "      <th>zscore</th>\n",
              "      <th>mod_zscore</th>\n",
              "    </tr>\n",
              "  </thead>\n",
              "  <tbody>\n",
              "    <tr>\n",
              "      <th>4</th>\n",
              "      <td>1954</td>\n",
              "      <td>Sándor Kocsis</td>\n",
              "      <td>11</td>\n",
              "      <td>1.839455</td>\n",
              "      <td>3.372454</td>\n",
              "    </tr>\n",
              "    <tr>\n",
              "      <th>5</th>\n",
              "      <td>1958</td>\n",
              "      <td>Just Fontaine</td>\n",
              "      <td>13</td>\n",
              "      <td>2.770264</td>\n",
              "      <td>4.721435</td>\n",
              "    </tr>\n",
              "    <tr>\n",
              "      <th>7</th>\n",
              "      <td>1966</td>\n",
              "      <td>Eusébio</td>\n",
              "      <td>9</td>\n",
              "      <td>0.908647</td>\n",
              "      <td>2.023472</td>\n",
              "    </tr>\n",
              "    <tr>\n",
              "      <th>8</th>\n",
              "      <td>1970</td>\n",
              "      <td>Gerd Müller</td>\n",
              "      <td>10</td>\n",
              "      <td>1.374051</td>\n",
              "      <td>2.697963</td>\n",
              "    </tr>\n",
              "  </tbody>\n",
              "</table>\n",
              "</div>"
            ],
            "text/plain": [
              "   Year      Player(s)  Goals    zscore  mod_zscore\n",
              "4  1954  Sándor Kocsis     11  1.839455    3.372454\n",
              "5  1958  Just Fontaine     13  2.770264    4.721435\n",
              "7  1966        Eusébio      9  0.908647    2.023472\n",
              "8  1970    Gerd Müller     10  1.374051    2.697963"
            ]
          },
          "execution_count": 52,
          "metadata": {},
          "output_type": "execute_result"
        }
      ],
      "source": [
        "mod_zscore_anomalies_players = top_goals[(top_goals['mod_zscore'] > 2)]\n",
        "mod_zscore_anomalies_players"
      ]
    },
    {
      "cell_type": "code",
      "execution_count": 53,
      "metadata": {
        "colab": {
          "base_uri": "https://localhost:8080/"
        },
        "id": "ex7Dud2JbUGz",
        "outputId": "ce6808b6-b2e4-4f39-f8c4-97fc3cd5f0ef"
      },
      "outputs": [
        {
          "name": "stdout",
          "output_type": "stream",
          "text": [
            "The value of MAD is 1.00\n"
          ]
        }
      ],
      "source": [
        "print('The value of MAD is {:.2f}'.format(mad_goals))"
      ]
    },
    {
      "cell_type": "code",
      "execution_count": null,
      "metadata": {
        "id": "XHJhODc1bYUe"
      },
      "outputs": [],
      "source": [
        "and  k∗MAD\n",
        "  is 1.48, which is smaller than the standard deviation (2.05). We see that the anomalies have a larger effect on the standard deviation, which depends on the square of the deviation from the mean (MAD depends linearly on the deviation).\n",
        "Of course, the data for top goal scorers is not normally distributed, so we can't associated probabilities with our scores, but our analysis does show the need to think about the scoring method used with the data."
      ]
    },
    {
      "cell_type": "markdown",
      "metadata": {
        "id": "X0NA-F15c1Nn"
      },
      "source": [
        "**Question 3**"
      ]
    },
    {
      "cell_type": "code",
      "execution_count": 54,
      "metadata": {
        "id": "sImnKidrc2Hw"
      },
      "outputs": [],
      "source": [
        "import sklearn.datasets as sk_data\n",
        "import sklearn.neighbors as neighbors\n",
        "import sys\n",
        "\n",
        "np.set_printoptions(suppress=True, precision=4)"
      ]
    },
    {
      "cell_type": "code",
      "execution_count": 55,
      "metadata": {
        "colab": {
          "base_uri": "https://localhost:8080/",
          "height": 598
        },
        "id": "-cJHPhjedJIZ",
        "outputId": "336a1fab-2894-40ef-afe8-5616a503b381"
      },
      "outputs": [
        {
          "data": {
            "image/png": "[encoded data removed]",
            "text/plain": [
              "<Figure size 900x600 with 1 Axes>"
            ]
          },
          "metadata": {
            "needs_background": "light"
          },
          "output_type": "display_data"
        }
      ],
      "source": [
        "X = np.array([[0.9, 1], [0, 1], [1, 0], [0, 0], [0.5, 0.5], [0.2, 0.5], [1, 0.5], [2, 2]])\n",
        "\n",
        "plt.figure(dpi=150)\n",
        "plt.title('Upper right point is anomalous')\n",
        "plt.xlabel('$X_1$')\n",
        "plt.ylabel('$X_2$')\n",
        "plt.plot(X[:, 0], X[:, 1], 'o');"
      ]
    },
    {
      "cell_type": "markdown",
      "metadata": {
        "id": "NxwDhYmndQCQ"
      },
      "source": [
        "Let's create a function to visualize a query point and its neighbors more explicitly."
      ]
    },
    {
      "cell_type": "code",
      "execution_count": 56,
      "metadata": {
        "id": "2dCdDWhcdTSS"
      },
      "outputs": [],
      "source": [
        "def plot_point_and_k_neighbors(X, highlight_index, n_neighbors=2):\n",
        "    \"Plots the points in X, and shows the n_neighbors of the highlight_index-th point\"\n",
        "    nn = neighbors.NearestNeighbors(n_neighbors=n_neighbors).fit(X)\n",
        "    dist, index = nn.kneighbors()\n",
        "    \n",
        "    src_pt = X[highlight_index, :]\n",
        "    \n",
        "    plt.figure(dpi=150)\n",
        "    # draw lines first, so points go on top\n",
        "    for dest_index in index[highlight_index]:\n",
        "        dest_pt = X[dest_index, :]\n",
        "        plt.plot(*list(zip(src_pt, dest_pt)), 'k--')\n",
        "    plt.plot(X[:, 0], X[:, 1], 'o', label='Not k-neighbors', alpha=0.3)\n",
        "    plt.plot(*src_pt, 'o', label='The query point')\n",
        "    plt.plot(X[index[highlight_index], 0], X[index[highlight_index], 1], 'o', label='k-neighbors')\n",
        "    plt.xlabel('$X_1$')\n",
        "    plt.ylabel('$X_2$')\n",
        "    plt.legend()\n"
      ]
    },
    {
      "cell_type": "markdown",
      "metadata": {
        "id": "33a6SjBHdaA0"
      },
      "source": [
        "Here we can see the 4 points close to the query point (index of 0 in our data) are relatively close. Let's look at the anomalous point in the upper right (this point has an index of 7):"
      ]
    },
    {
      "cell_type": "code",
      "execution_count": 57,
      "metadata": {
        "colab": {
          "base_uri": "https://localhost:8080/",
          "height": 566
        },
        "id": "jZ9g9pVedfmz",
        "outputId": "fede990a-25bc-40a7-c99e-c023887a6f99"
      },
      "outputs": [
        {
          "data": {
            "image/png": "[encoded data removed]",
            "text/plain": [
              "<Figure size 900x600 with 1 Axes>"
            ]
          },
          "metadata": {
            "needs_background": "light"
          },
          "output_type": "display_data"
        }
      ],
      "source": [
        "plot_point_and_k_neighbors(X, 7, n_neighbors=3)"
      ]
    },
    {
      "cell_type": "markdown",
      "metadata": {
        "id": "_ymdULH3dsEw"
      },
      "source": [
        "We can see in this case all of the 4-nearest neighbors to our point are far away, so it seems reasonably unambiguous to call this point an anomaly.\n",
        "Let's add one more point next to the anomaly, and see how choosing \"k\" and the scoring function affects things."
      ]
    },
    {
      "cell_type": "code",
      "execution_count": 58,
      "metadata": {
        "colab": {
          "base_uri": "https://localhost:8080/",
          "height": 566
        },
        "id": "TQU7L_rLdzHY",
        "outputId": "3679f01b-6f9e-49e4-aaa0-208f1601f07a"
      },
      "outputs": [
        {
          "data": {
            "image/png": "[encoded data removed]",
            "text/plain": [
              "<Figure size 900x600 with 1 Axes>"
            ]
          },
          "metadata": {
            "needs_background": "light"
          },
          "output_type": "display_data"
        }
      ],
      "source": [
        "# Toy dataset with two adjacent anomalies\n",
        "X2 = np.concatenate([X, [[1.9, 2.0]]])\n",
        "\n",
        "# Look at nearest neighbor (k=1)\n",
        "plot_point_and_k_neighbors(X2, 7, n_neighbors=1)"
      ]
    },
    {
      "cell_type": "code",
      "execution_count": 59,
      "metadata": {
        "id": "-r0PYUl7Ndl-"
      },
      "outputs": [],
      "source": [
        "def print_ranked_scores(obs, scores):\n",
        "    scores_and_obs = sorted(zip(scores, obs), key=lambda t: t[0], reverse=True)\n",
        "    print('Rank  Point\\t\\tScore')\n",
        "    print('------------------------------')\n",
        "    for index, score_ob in enumerate(scores_and_obs):\n",
        "        score, point = score_ob\n",
        "        print(f'{index+1:3d}.  {point}\\t\\t{score:6.4f}')\n",
        "\n",
        "# Look at the outliers using 3 neighbors"
      ]
    },
    {
      "cell_type": "code",
      "execution_count": 60,
      "metadata": {
        "colab": {
          "base_uri": "https://localhost:8080/"
        },
        "id": "lvilQ57oNc_b",
        "outputId": "f623556d-d205-4536-f917-b5f707aa8862"
      },
      "outputs": [
        {
          "name": "stdout",
          "output_type": "stream",
          "text": [
            "Rank  Point\t\tScore\n",
            "------------------------------\n",
            "  1.  [2. 2.]\t\t1.8608\n",
            "  2.  [1.9 2. ]\t\t1.8293\n",
            "  3.  [0.2 0.5]\t\t1.2154\n",
            "  4.  [1.  0.5]\t\t1.2091\n",
            "  5.  [0. 0.]\t\t1.0333\n",
            "  6.  [0. 1.]\t\t1.0120\n",
            "  7.  [1. 0.]\t\t0.9554\n",
            "  8.  [0.9 1. ]\t\t0.8891\n",
            "  9.  [0.5 0.5]\t\t0.8272\n"
          ]
        }
      ],
      "source": [
        "# LOF for KNN 3\n",
        "\n",
        "import sklearn.neighbors as neighbors\n",
        "lof = neighbors.LocalOutlierFactor(n_neighbors=3, contamination='auto')\n",
        "lof.fit(X2)\n",
        "sk_lof = -lof.negative_outlier_factor_\n",
        "print_ranked_scores(X2, sk_lof)"
      ]
    },
    {
      "cell_type": "code",
      "execution_count": 61,
      "metadata": {
        "colab": {
          "base_uri": "https://localhost:8080/"
        },
        "id": "uLM3JBeoN2aL",
        "outputId": "1c70fbaa-1aff-4a14-a4a9-fcdbc4a07a17"
      },
      "outputs": [
        {
          "name": "stdout",
          "output_type": "stream",
          "text": [
            "[[0.5099]\n",
            " [0.5385]\n",
            " [0.5   ]\n",
            " [0.5385]\n",
            " [0.3   ]\n",
            " [0.3   ]\n",
            " [0.5   ]\n",
            " [0.1   ]\n",
            " [0.1   ]]\n",
            "Rank  Point\t\tScore\n",
            "------------------------------\n",
            "  1.  [0. 1.]\t\t0.5385\n",
            "  2.  [0. 0.]\t\t0.5385\n",
            "  3.  [0.9 1. ]\t\t0.5099\n",
            "  4.  [1. 0.]\t\t0.5000\n",
            "  5.  [1.  0.5]\t\t0.5000\n",
            "  6.  [0.5 0.5]\t\t0.3000\n",
            "  7.  [0.2 0.5]\t\t0.3000\n",
            "  8.  [2. 2.]\t\t0.1000\n",
            "  9.  [1.9 2. ]\t\t0.1000\n"
          ]
        }
      ],
      "source": [
        "#LOF for KNN 1\n",
        "\n",
        "def do_nn_outlier_scores(obs, n_neighbors=1):\n",
        "    \"\"\"\n",
        "    Gives the score of a point as the distance from point to its k-th nearest neighbor.\n",
        "    Larger score means more likely to be an outlier\n",
        "    \"\"\"\n",
        "    nn = neighbors.NearestNeighbors(n_neighbors=n_neighbors)\n",
        "    nn.fit(obs)\n",
        "    dists, idx = nn.kneighbors()\n",
        "    print(dists)\n",
        "    scores = dists[:,-1]\n",
        "    return scores\n",
        "\n",
        "# Test \n",
        "print_ranked_scores(X2, do_nn_outlier_scores(X2, 1))"
      ]
    },
    {
      "cell_type": "markdown",
      "metadata": {
        "id": "qewBm2SI8DeZ"
      },
      "source": [
        "**Question 4**"
      ]
    },
    {
      "cell_type": "code",
      "execution_count": 62,
      "metadata": {
        "colab": {
          "base_uri": "https://localhost:8080/"
        },
        "id": "iZr0T-T_8bkp",
        "outputId": "ff648461-0e2f-4890-9daf-7c1118d204de"
      },
      "outputs": [
        {
          "name": "stdout",
          "output_type": "stream",
          "text": [
            "Rank  Point\t\tScore\n",
            "------------------------------\n",
            "  1.  [2. 2.]\t\t1.1298\n",
            "  2.  [1.9 2. ]\t\t1.0878\n",
            "  3.  [0. 0.]\t\t0.7485\n",
            "  4.  [1. 0.]\t\t0.7168\n",
            "  5.  [0. 1.]\t\t0.7152\n",
            "  6.  [0.9 1. ]\t\t0.6701\n",
            "  7.  [1.  0.5]\t\t0.5033\n",
            "  8.  [0.5 0.5]\t\t0.4801\n",
            "  9.  [0.2 0.5]\t\t0.4590\n"
          ]
        }
      ],
      "source": [
        "def do_nn_avg_scores(obs, n_neighbors=1):\n",
        "  \n",
        "    nn = neighbors.NearestNeighbors(n_neighbors=n_neighbors)\n",
        "    nn.fit(obs)\n",
        "    dists, idx = nn.kneighbors()\n",
        "    return np.mean(dists , axis=1)\n",
        "\n",
        "# Test \n",
        "print_ranked_scores(X2,do_nn_avg_scores(X2, 3))"
      ]
    },
    {
      "cell_type": "code",
      "execution_count": 63,
      "metadata": {
        "colab": {
          "base_uri": "https://localhost:8080/"
        },
        "id": "hUCYekWeOery",
        "outputId": "964dedd1-07ad-4f6a-98ab-0cb8ba9a3d55"
      },
      "outputs": [
        {
          "name": "stdout",
          "output_type": "stream",
          "text": [
            "Rank  Point\t\tScore\n",
            "------------------------------\n",
            "  1.  [0. 0.]\t\t0.7024\n",
            "  2.  [0. 1.]\t\t0.6846\n",
            "  3.  [1. 0.]\t\t0.6705\n",
            "  4.  [0.9 1. ]\t\t0.6403\n",
            "  5.  [1.  0.5]\t\t0.5033\n",
            "  6.  [0.5 0.5]\t\t0.4351\n",
            "  7.  [0.2 0.5]\t\t0.4257\n",
            "  8.  [2. 2.]\t\t0.2672\n",
            "  9.  [1.9 2. ]\t\t0.2660\n"
          ]
        }
      ],
      "source": [
        "from scipy.stats import hmean\n",
        "def do_nn_harm_scores(obs, n_neighbors=1):\n",
        "  \n",
        "    nn = neighbors.NearestNeighbors(n_neighbors=n_neighbors)\n",
        "    nn.fit(obs)\n",
        "    dists, idx = nn.kneighbors()\n",
        "    return hmean(dists , axis=1)\n",
        "\n",
        "# Test \n",
        "print_ranked_scores(X2, do_nn_harm_scores(X2, 3))"
      ]
    },
    {
      "cell_type": "markdown",
      "metadata": {
        "id": "vuvXWeO8ev-w"
      },
      "source": [
        "**Question 5**"
      ]
    },
    {
      "cell_type": "code",
      "execution_count": 64,
      "metadata": {
        "id": "XWC5QrN9fXdE"
      },
      "outputs": [],
      "source": [
        "def lof_method(obs, n_neighbors=2):\n",
        "    neigh = neighbors.NearestNeighbors(n_neighbors=2).fit(obs)\n",
        "    \n",
        "    #Return indices of and distances to the neighbors of each point\n",
        "    topk_dist, my_kneigh = neigh.kneighbors()\n",
        "    \n",
        "    # Create list of distances of furthest (kth) neighbor \n",
        "    k_dist = topk_dist[:,-1]\n",
        " \n",
        "    # Reachability distance: maximum of true distance between query neighbor and query point\n",
        "    # and distance to kth nearest neighbor of query neighbor\n",
        "    reach = np.maximum(topk_dist, k_dist[my_kneigh])\n",
        "    \n",
        "    # Local reacability density is reciprocal of average reachability distance\n",
        "    lrd = 1.0 / np.mean(reach, axis=1)\n",
        "    \n",
        "    # Local outlier factor is given by\n",
        "    # average local density of neighbors / local density of query point\n",
        "    lrd_ratios = lrd[my_kneigh] / lrd[:, np.newaxis]\n",
        "    lof = np.mean(lrd_ratios, axis=1)\n",
        "    \n",
        "    return lof"
      ]
    }
  ],
  "metadata": {
    "colab": {
      "collapsed_sections": [
        "dg9WHXB5ZdhF",
        "X0NA-F15c1Nn",
        "qewBm2SI8DeZ",
        "vuvXWeO8ev-w"
      ],
      "name": "LAB8.ipynb",
      "provenance": []
    },
    "kernelspec": {
      "display_name": "Python 3",
      "name": "python3"
    },
    "language_info": {
      "codemirror_mode": {
        "name": "ipython",
        "version": 3
      },
      "file_extension": ".py",
      "mimetype": "text/x-python",
      "name": "python",
      "nbconvert_exporter": "python",
      "pygments_lexer": "ipython3",
      "version": "3.9.7"
    }
  },
  "nbformat": 4,
  "nbformat_minor": 0
}
